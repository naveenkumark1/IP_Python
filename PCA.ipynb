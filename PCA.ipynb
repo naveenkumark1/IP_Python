{
 "cells": [
  {
   "cell_type": "code",
   "execution_count": 84,
   "metadata": {
    "id": "jMl3_U2ANR_5"
   },
   "outputs": [],
   "source": [
    "import pandas as pd\n",
    "import numpy as np\n",
    "from sklearn.datasets import load_digits\n",
    "digit = load_digits()"
   ]
  },
  {
   "cell_type": "code",
   "execution_count": 85,
   "metadata": {
    "id": "CgjKtwlKNdYD"
   },
   "outputs": [],
   "source": [
    "import matplotlib.pyplot as plt"
   ]
  },
  {
   "cell_type": "code",
   "execution_count": 86,
   "metadata": {
    "colab": {
     "base_uri": "https://localhost:8080/"
    },
    "id": "TKPN_jk2NyPC",
    "outputId": "944583de-f0d6-471d-8ab2-ded4389484dc"
   },
   "outputs": [
    {
     "data": {
      "text/plain": [
       "(1797, 64)"
      ]
     },
     "execution_count": 86,
     "metadata": {},
     "output_type": "execute_result"
    }
   ],
   "source": [
    "df = pd.DataFrame(digit.data)\n",
    "df.shape"
   ]
  },
  {
   "cell_type": "code",
   "execution_count": 90,
   "metadata": {
    "colab": {
     "base_uri": "https://localhost:8080/",
     "height": 283
    },
    "id": "U51rjZa3NmXB",
    "outputId": "71b9dbc6-520e-44d6-9032-77b5e023994d"
   },
   "outputs": [
    {
     "data": {
      "text/plain": [
       "<matplotlib.image.AxesImage at 0x234cce79220>"
      ]
     },
     "execution_count": 90,
     "metadata": {},
     "output_type": "execute_result"
    },
    {
     "data": {
      "image/png": "[encoded data removed]",
      "text/plain": [
       "<Figure size 432x288 with 1 Axes>"
      ]
     },
     "metadata": {
      "needs_background": "light"
     },
     "output_type": "display_data"
    }
   ],
   "source": [
    "plt.imshow(digit.data[2].reshape(8,8))"
   ]
  },
  {
   "cell_type": "code",
   "execution_count": 92,
   "metadata": {
    "colab": {
     "base_uri": "https://localhost:8080/",
     "height": 269
    },
    "id": "n2-rT0jGNqtW",
    "outputId": "c0f6d444-dc1c-4765-a6f9-e0dbce0c9815"
   },
   "outputs": [
    {
     "data": {
      "image/png": "[encoded data removed]",
      "text/plain": [
       "<Figure size 432x288 with 2 Axes>"
      ]
     },
     "metadata": {
      "needs_background": "light"
     },
     "output_type": "display_data"
    }
   ],
   "source": [
    "plt.imshow(digit.data[0].reshape(8,8))\n",
    "plt.colorbar()\n",
    "plt.show()"
   ]
  },
  {
   "cell_type": "code",
   "execution_count": 93,
   "metadata": {},
   "outputs": [
    {
     "data": {
      "text/plain": [
       "array([ 0.,  0.,  0.,  4., 15., 12.,  0.,  0.,  0.,  0.,  3., 16., 15.,\n",
       "       14.,  0.,  0.,  0.,  0.,  8., 13.,  8., 16.,  0.,  0.,  0.,  0.,\n",
       "        1.,  6., 15., 11.,  0.,  0.,  0.,  1.,  8., 13., 15.,  1.,  0.,\n",
       "        0.,  0.,  9., 16., 16.,  5.,  0.,  0.,  0.,  0.,  3., 13., 16.,\n",
       "       16., 11.,  5.,  0.,  0.,  0.,  0.,  3., 11., 16.,  9.,  0.])"
      ]
     },
     "execution_count": 93,
     "metadata": {},
     "output_type": "execute_result"
    }
   ],
   "source": [
    "digit.data[2]"
   ]
  },
  {
   "cell_type": "code",
   "execution_count": 94,
   "metadata": {
    "colab": {
     "base_uri": "https://localhost:8080/"
    },
    "id": "5hglQ_lZNtID",
    "outputId": "7d78a1f5-acdb-4f40-ab47-18cfe4ed2db5"
   },
   "outputs": [
    {
     "data": {
      "text/plain": [
       "(1797,)"
      ]
     },
     "execution_count": 94,
     "metadata": {},
     "output_type": "execute_result"
    }
   ],
   "source": [
    "y = digit.target\n",
    "y.shape"
   ]
  },
  {
   "cell_type": "code",
   "execution_count": 95,
   "metadata": {
    "colab": {
     "base_uri": "https://localhost:8080/"
    },
    "id": "1u7NQVgXDutn",
    "outputId": "7da120a4-c5c5-43ba-bccc-95992208957f"
   },
   "outputs": [
    {
     "data": {
      "text/plain": [
       "16.0"
      ]
     },
     "execution_count": 95,
     "metadata": {},
     "output_type": "execute_result"
    }
   ],
   "source": [
    "df.max().max()"
   ]
  },
  {
   "cell_type": "code",
   "execution_count": 96,
   "metadata": {
    "colab": {
     "base_uri": "https://localhost:8080/"
    },
    "id": "eMrgGc3BD7t5",
    "outputId": "4acc6574-5edc-41d5-f86f-9a27f48343ea"
   },
   "outputs": [
    {
     "data": {
      "text/plain": [
       "0.0"
      ]
     },
     "execution_count": 96,
     "metadata": {},
     "output_type": "execute_result"
    }
   ],
   "source": [
    "df.min().min()"
   ]
  },
  {
   "cell_type": "code",
   "execution_count": 97,
   "metadata": {
    "colab": {
     "base_uri": "https://localhost:8080/"
    },
    "id": "OsF0P_y1ENY0",
    "outputId": "49a9b6f6-411a-4c22-dad2-68cd50d77384"
   },
   "outputs": [
    {
     "data": {
      "text/plain": [
       "(1797, 64)"
      ]
     },
     "execution_count": 97,
     "metadata": {},
     "output_type": "execute_result"
    }
   ],
   "source": [
    "#bringing to the scale to 0 to 1\n",
    "X_transformed = digit.data/16.0\n",
    "X_transformed.shape"
   ]
  },
  {
   "cell_type": "code",
   "execution_count": 98,
   "metadata": {
    "colab": {
     "base_uri": "https://localhost:8080/"
    },
    "id": "ZFXyEIYmEefd",
    "outputId": "f2c23baa-0c8a-4aa1-f4b6-2a43a0af81a4"
   },
   "outputs": [
    {
     "data": {
      "text/plain": [
       "1.0"
      ]
     },
     "execution_count": 98,
     "metadata": {},
     "output_type": "execute_result"
    }
   ],
   "source": [
    "np.max(X_transformed)"
   ]
  },
  {
   "cell_type": "code",
   "execution_count": 99,
   "metadata": {
    "colab": {
     "base_uri": "https://localhost:8080/"
    },
    "id": "zmwyxgrBEkAO",
    "outputId": "2e8eb4ad-ce52-40bb-c6d9-7fc3309e40c6"
   },
   "outputs": [
    {
     "data": {
      "text/plain": [
       "0.0"
      ]
     },
     "execution_count": 99,
     "metadata": {},
     "output_type": "execute_result"
    }
   ],
   "source": [
    "np.min(X_transformed)"
   ]
  },
  {
   "cell_type": "code",
   "execution_count": 100,
   "metadata": {},
   "outputs": [
    {
     "data": {
      "image/png": "[encoded data removed]",
      "text/plain": [
       "<Figure size 432x288 with 2 Axes>"
      ]
     },
     "metadata": {
      "needs_background": "light"
     },
     "output_type": "display_data"
    }
   ],
   "source": [
    "plt.imshow(X_transformed[2].reshape(8,8))\n",
    "plt.colorbar()\n",
    "plt.show()"
   ]
  },
  {
   "cell_type": "markdown",
   "metadata": {
    "id": "a3U-LlS7FFC0"
   },
   "source": [
    "# PCA"
   ]
  },
  {
   "cell_type": "code",
   "execution_count": 101,
   "metadata": {
    "id": "Q8o9n4r_FFqa"
   },
   "outputs": [],
   "source": [
    "from sklearn.decomposition import PCA\n",
    "pca = PCA()"
   ]
  },
  {
   "cell_type": "code",
   "execution_count": 102,
   "metadata": {
    "colab": {
     "base_uri": "https://localhost:8080/"
    },
    "id": "si8S5yQFFM6m",
    "outputId": "3d015c96-3e7e-438a-be81-501280ceecb7"
   },
   "outputs": [
    {
     "data": {
      "text/plain": [
       "(1797, 64)"
      ]
     },
     "execution_count": 102,
     "metadata": {},
     "output_type": "execute_result"
    }
   ],
   "source": [
    "digit_pca = pca.fit_transform(X_transformed)\n",
    "digit_pca.shape"
   ]
  },
  {
   "cell_type": "code",
   "execution_count": 103,
   "metadata": {
    "colab": {
     "base_uri": "https://localhost:8080/"
    },
    "id": "M75alRtpFcER",
    "outputId": "029abbbb-1e76-46c9-b074-5c113134c161"
   },
   "outputs": [
    {
     "data": {
      "text/plain": [
       "array([-7.87166531e-02,  1.32968022e+00, -5.91440914e-01,  8.13386793e-01,\n",
       "       -4.45551424e-01, -4.65041173e-01,  2.03302322e-01,  1.59591897e-01,\n",
       "       -3.63651339e-02,  2.26606060e-01,  1.61622305e-01,  9.69754425e-02,\n",
       "        5.34060443e-02, -2.08671834e-01,  3.69161855e-01,  1.71474587e-01,\n",
       "        2.62398067e-02, -5.61343558e-02,  4.39131791e-02, -2.16382417e-01,\n",
       "        1.67553099e-01,  6.30905941e-02,  1.25606423e-01,  8.09571742e-02,\n",
       "        7.36799207e-02,  1.43786366e-01,  2.29420067e-01, -5.89793063e-02,\n",
       "       -7.07813721e-02,  1.47487219e-01, -1.13586621e-01, -4.71885178e-02,\n",
       "        1.01776131e-02, -1.32061087e-01,  6.84264491e-02,  1.22303458e-02,\n",
       "       -5.62460081e-03, -1.72733792e-01,  6.80552010e-02,  1.28752505e-02,\n",
       "        1.06531958e-01,  3.63323987e-02,  4.45436495e-02, -1.17524292e-02,\n",
       "        3.92695877e-02, -3.71866815e-02,  2.98077067e-03, -4.45808794e-02,\n",
       "       -2.12072004e-02,  2.69371306e-03, -2.63375715e-02, -7.61797452e-03,\n",
       "       -3.95800856e-03, -3.56397538e-03, -3.04908944e-03, -1.13516056e-04,\n",
       "        6.93849409e-04, -9.67155275e-05,  5.15466867e-04,  1.34255383e-04,\n",
       "        6.52430847e-05,  0.00000000e+00,  0.00000000e+00,  2.78838222e-15])"
      ]
     },
     "execution_count": 103,
     "metadata": {},
     "output_type": "execute_result"
    }
   ],
   "source": [
    "digit_pca[0]"
   ]
  },
  {
   "cell_type": "code",
   "execution_count": 104,
   "metadata": {
    "colab": {
     "base_uri": "https://localhost:8080/"
    },
    "id": "lB-eJqfpFhQW",
    "outputId": "71a41bf2-aa94-495b-d850-11ed710b5c99"
   },
   "outputs": [
    {
     "data": {
      "text/plain": [
       "array([0.    , 0.    , 0.3125, 0.8125, 0.5625, 0.0625, 0.    , 0.    ,\n",
       "       0.    , 0.    , 0.8125, 0.9375, 0.625 , 0.9375, 0.3125, 0.    ,\n",
       "       0.    , 0.1875, 0.9375, 0.125 , 0.    , 0.6875, 0.5   , 0.    ,\n",
       "       0.    , 0.25  , 0.75  , 0.    , 0.    , 0.5   , 0.5   , 0.    ,\n",
       "       0.    , 0.3125, 0.5   , 0.    , 0.    , 0.5625, 0.5   , 0.    ,\n",
       "       0.    , 0.25  , 0.6875, 0.    , 0.0625, 0.75  , 0.4375, 0.    ,\n",
       "       0.    , 0.125 , 0.875 , 0.3125, 0.625 , 0.75  , 0.    , 0.    ,\n",
       "       0.    , 0.    , 0.375 , 0.8125, 0.625 , 0.    , 0.    , 0.    ])"
      ]
     },
     "execution_count": 104,
     "metadata": {},
     "output_type": "execute_result"
    }
   ],
   "source": [
    "X_transformed[0]"
   ]
  },
  {
   "cell_type": "code",
   "execution_count": 105,
   "metadata": {
    "colab": {
     "base_uri": "https://localhost:8080/"
    },
    "id": "MEtWYMO8Fozb",
    "outputId": "4f829192-9e14-405c-a555-64cc39256035"
   },
   "outputs": [
    {
     "data": {
      "text/plain": [
       "array([0.15, 0.14, 0.12, 0.08, 0.06, 0.05, 0.04, 0.04, 0.03, 0.03, 0.02,\n",
       "       0.02, 0.02, 0.02, 0.01, 0.01, 0.01, 0.01, 0.01, 0.01, 0.01, 0.01,\n",
       "       0.01, 0.01, 0.01, 0.01, 0.01, 0.01, 0.  , 0.  , 0.  , 0.  , 0.  ,\n",
       "       0.  , 0.  , 0.  , 0.  , 0.  , 0.  , 0.  , 0.  , 0.  , 0.  , 0.  ,\n",
       "       0.  , 0.  , 0.  , 0.  , 0.  , 0.  , 0.  , 0.  , 0.  , 0.  , 0.  ,\n",
       "       0.  , 0.  , 0.  , 0.  , 0.  , 0.  , 0.  , 0.  , 0.  ])"
      ]
     },
     "execution_count": 105,
     "metadata": {},
     "output_type": "execute_result"
    }
   ],
   "source": [
    "np.round(pca.explained_variance_ratio_,2)"
   ]
  },
  {
   "cell_type": "code",
   "execution_count": 106,
   "metadata": {
    "colab": {
     "base_uri": "https://localhost:8080/"
    },
    "id": "UI787mffF7Ji",
    "outputId": "6790ecd3-5b71-49c8-c2fb-350d50668996"
   },
   "outputs": [
    {
     "data": {
      "text/plain": [
       "1.0"
      ]
     },
     "execution_count": 106,
     "metadata": {},
     "output_type": "execute_result"
    }
   ],
   "source": [
    "np.sum(pca.explained_variance_ratio_)"
   ]
  },
  {
   "cell_type": "code",
   "execution_count": 112,
   "metadata": {
    "colab": {
     "base_uri": "https://localhost:8080/"
    },
    "id": "wFdmBLT8GLSj",
    "outputId": "104f8349-5368-4421-b3e7-129f97daec2e"
   },
   "outputs": [
    {
     "data": {
      "text/plain": [
       "(1797, 15)"
      ]
     },
     "execution_count": 112,
     "metadata": {},
     "output_type": "execute_result"
    }
   ],
   "source": [
    "pca = PCA(n_components=15)\n",
    "digit_pca = pca.fit_transform(X_transformed)\n",
    "digit_pca.shape"
   ]
  },
  {
   "cell_type": "code",
   "execution_count": 113,
   "metadata": {
    "colab": {
     "base_uri": "https://localhost:8080/"
    },
    "id": "Ki167KTdGZzq",
    "outputId": "3814d861-f777-49c9-8117-585204303d76"
   },
   "outputs": [
    {
     "data": {
      "text/plain": [
       "0.8353012130160804"
      ]
     },
     "execution_count": 113,
     "metadata": {},
     "output_type": "execute_result"
    }
   ],
   "source": [
    "np.sum(pca.explained_variance_ratio_)"
   ]
  },
  {
   "cell_type": "code",
   "execution_count": 115,
   "metadata": {
    "colab": {
     "base_uri": "https://localhost:8080/",
     "height": 262
    },
    "id": "wjM4KtHCGnX1",
    "outputId": "8e4ec536-51e2-4f00-85fd-d876a96ccd03"
   },
   "outputs": [
    {
     "data": {
      "image/png": "[encoded data removed]",
      "text/plain": [
       "<Figure size 1440x360 with 1 Axes>"
      ]
     },
     "metadata": {
      "needs_background": "light"
     },
     "output_type": "display_data"
    }
   ],
   "source": [
    "plt.figure(figsize=(20,5))\n",
    "plt.plot(range(1,16), np.cumsum(pca.explained_variance_ratio_))\n",
    "plt.xlabel(\"PCA components\")\n",
    "plt.ylabel(\"explained variance\")\n",
    "plt.show()"
   ]
  },
  {
   "cell_type": "code",
   "execution_count": null,
   "metadata": {},
   "outputs": [],
   "source": []
  }
 ],
 "metadata": {
  "colab": {
   "name": "PCA & LDA DSML internship.ipynb",
   "provenance": []
  },
  "kernelspec": {
   "display_name": "Python 3 (ipykernel)",
   "language": "python",
   "name": "python3"
  },
  "language_info": {
   "codemirror_mode": {
    "name": "ipython",
    "version": 3
   },
   "file_extension": ".py",
   "mimetype": "text/x-python",
   "name": "python",
   "nbconvert_exporter": "python",
   "pygments_lexer": "ipython3",
   "version": "3.9.12"
  }
 },
 "nbformat": 4,
 "nbformat_minor": 1
}
