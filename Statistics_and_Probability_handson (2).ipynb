{
 "cells": [
  {
   "cell_type": "code",
   "execution_count": 1,
   "metadata": {
    "id": "mDc1Ue9DO29F"
   },
   "outputs": [],
   "source": [
    "import pandas as pd\n",
    "import numpy as np \n",
    "import matplotlib.pyplot as plt\n",
    "import seaborn as sns\n",
    "import warnings\n",
    "warnings.filterwarnings('ignore')"
   ]
  },
  {
   "cell_type": "code",
   "execution_count": null,
   "metadata": {
    "id": "CxkQOlBBPYqb"
   },
   "outputs": [],
   "source": [
    "data = pd.read_csv('C:C:\\\\Users\\\\AdmiN\\\\Downloads\\\\Stat handson session-20220924T120205Z-001\\\\Stat handson sessiondiabetes.csv')"
   ]
  },
  {
   "cell_type": "code",
   "execution_count": null,
   "metadata": {
    "colab": {
     "base_uri": "https://localhost:8080/",
     "height": 206
    },
    "id": "zxP8G1PcQIOx",
    "outputId": "a5a5e315-eff3-4ea6-d3f8-7906b19a5647"
   },
   "outputs": [],
   "source": [
    "data.head()"
   ]
  },
  {
   "cell_type": "code",
   "execution_count": null,
   "metadata": {},
   "outputs": [],
   "source": [
    "#infrential stats-- sampled data-- for the population data \n",
    "#descriptive stat-- population data "
   ]
  },
  {
   "cell_type": "code",
   "execution_count": null,
   "metadata": {},
   "outputs": [],
   "source": [
    "data.shape"
   ]
  },
  {
   "cell_type": "code",
   "execution_count": null,
   "metadata": {},
   "outputs": [],
   "source": [
    "data.isna().sum()"
   ]
  },
  {
   "cell_type": "code",
   "execution_count": null,
   "metadata": {},
   "outputs": [],
   "source": [
    "d1=pd.DataFrame(data.isnull().sum())\n",
    "d1"
   ]
  },
  {
   "cell_type": "code",
   "execution_count": null,
   "metadata": {},
   "outputs": [],
   "source": [
    "data['Outcome'].value_counts()"
   ]
  },
  {
   "cell_type": "code",
   "execution_count": null,
   "metadata": {},
   "outputs": [],
   "source": [
    "data['Outcome'].mode()"
   ]
  },
  {
   "cell_type": "code",
   "execution_count": null,
   "metadata": {},
   "outputs": [],
   "source": [
    "#None,0\n",
    "#object format data-- mode of the column\n",
    "#num format data-- either by mean or median\n",
    "#let's say, i have to fill the col1 null data by mode:-- the col is categorical--\n",
    "#data['col1'].fillna(data['col1'].mode()[0])\n",
    "#let's say, i have to fill the col1 null data by mean:-- the col is numerical\n",
    "#data['col1'].fillna(data['col1'].mean())"
   ]
  },
  {
   "cell_type": "code",
   "execution_count": null,
   "metadata": {},
   "outputs": [],
   "source": []
  },
  {
   "cell_type": "code",
   "execution_count": null,
   "metadata": {},
   "outputs": [],
   "source": [
    "#NaN, ?\n",
    "#np.nan"
   ]
  },
  {
   "cell_type": "code",
   "execution_count": null,
   "metadata": {},
   "outputs": [],
   "source": [
    "data.info()"
   ]
  },
  {
   "cell_type": "code",
   "execution_count": null,
   "metadata": {
    "colab": {
     "base_uri": "https://localhost:8080/",
     "height": 300
    },
    "id": "tj3CzrQO5Zyb",
    "outputId": "5d1b456e-2d8a-4ec7-9230-582749ff4bc2"
   },
   "outputs": [],
   "source": [
    "#measure of central tendency and spread - descriptive statistics\n",
    "data.describe()"
   ]
  },
  {
   "cell_type": "code",
   "execution_count": null,
   "metadata": {},
   "outputs": [],
   "source": []
  },
  {
   "cell_type": "code",
   "execution_count": null,
   "metadata": {
    "colab": {
     "base_uri": "https://localhost:8080/",
     "height": 917
    },
    "id": "fmB2V0QD5hHi",
    "outputId": "a17cdcb4-bbbc-432a-d771-2befd15fb487"
   },
   "outputs": [],
   "source": [
    "#measure of symmetry \n",
    "fig, axes = plt.subplots(3,3, figsize=(20,10))\n",
    "\n",
    "plt.subplot(3,3,1)\n",
    "sns.distplot(x=data['BMI'])\n",
    "\n",
    "plt.subplot(3,3,2)\n",
    "sns.distplot(x=data['Pregnancies'])\n",
    "\n",
    "plt.subplot(3,3,3)\n",
    "sns.distplot(x=data['Glucose'])\n",
    "\n",
    "plt.subplot(3,3,4)\n",
    "sns.distplot(x=data['BloodPressure'])\n",
    "\n",
    "plt.subplot(3,3,5)\n",
    "sns.distplot(x=data['SkinThickness'])\n",
    "\n",
    "plt.subplot(3,3,6)\n",
    "sns.distplot(x=data['Insulin'])\n",
    "\n",
    "plt.subplot(3,3,7)\n",
    "sns.distplot(x=data['Age'])\n",
    "#plt.xlabel()\n",
    "\n",
    "plt.subplot(3,3,8)\n",
    "sns.distplot(x=data['Outcome'])\n",
    "\n",
    "plt.subplot(3,3,9)\n",
    "sns.distplot(x=data['DiabetesPedigreeFunction'])\n",
    "\n",
    "plt.show()"
   ]
  },
  {
   "cell_type": "code",
   "execution_count": null,
   "metadata": {},
   "outputs": [],
   "source": [
    "#right skewed distribution/ positive skewed data-- from left to right--- Mode, median, mean\n",
    "#left skewed distribution-- from left to right--- Mean, median, mode"
   ]
  },
  {
   "cell_type": "code",
   "execution_count": null,
   "metadata": {
    "colab": {
     "base_uri": "https://localhost:8080/",
     "height": 623
    },
    "id": "xexX98zcJXfL",
    "outputId": "698fa629-e3fe-4455-aacc-38c5ba520592"
   },
   "outputs": [],
   "source": [
    "#measure of peakedness\n",
    "fig, axes = plt.subplots(3,3, figsize=(20,10))\n",
    "\n",
    "plt.subplot(3,3,1)\n",
    "sns.boxplot(x=data['BMI'])\n",
    "\n",
    "plt.subplot(3,3,2)\n",
    "sns.boxplot(x=data['Pregnancies'])\n",
    "\n",
    "plt.subplot(3,3,3)\n",
    "sns.boxplot(x=data['Glucose'])\n",
    "\n",
    "plt.subplot(3,3,4)\n",
    "sns.boxplot(x=data['BloodPressure'])\n",
    "\n",
    "plt.subplot(3,3,5)\n",
    "sns.boxplot(x=data['SkinThickness'])\n",
    "\n",
    "plt.subplot(3,3,6)\n",
    "sns.boxplot(x=data['Insulin'])\n",
    "\n",
    "plt.subplot(3,3,7)\n",
    "sns.boxplot(x=data['Age'])\n",
    "\n",
    "plt.subplot(3,3,8)\n",
    "sns.boxplot(x=data['Outcome'])\n",
    "\n",
    "plt.subplot(3,3,9)\n",
    "sns.boxplot(x=data['DiabetesPedigreeFunction'])"
   ]
  },
  {
   "cell_type": "code",
   "execution_count": null,
   "metadata": {},
   "outputs": [],
   "source": [
    "\n",
    "#q1-\n",
    "#q3-\n",
    "#iqr- q3-q1\n",
    "#upper limit: q3+1.5*iqr--- outlier\n",
    "#lower limit: q1-1.5*iqr"
   ]
  },
  {
   "cell_type": "code",
   "execution_count": null,
   "metadata": {},
   "outputs": [],
   "source": []
  },
  {
   "cell_type": "code",
   "execution_count": null,
   "metadata": {},
   "outputs": [],
   "source": [
    "#data=data[(data>q1-1.5*iqr) & (data<q3+1.5*iqr)]"
   ]
  },
  {
   "cell_type": "code",
   "execution_count": null,
   "metadata": {},
   "outputs": [],
   "source": [
    "data"
   ]
  },
  {
   "cell_type": "code",
   "execution_count": null,
   "metadata": {
    "colab": {
     "base_uri": "https://localhost:8080/"
    },
    "id": "NH1P35tzI2dH",
    "outputId": "786a3e43-c45e-4bae-de30-d8748f581fb0"
   },
   "outputs": [],
   "source": [
    "#sampling \n",
    "diabetic = data.loc[(data[\"Outcome\"] == 1)]\n",
    "non_diabetic = data.loc[(data['Outcome'] == 0)]\n",
    "diabetic.info()"
   ]
  },
  {
   "cell_type": "code",
   "execution_count": null,
   "metadata": {
    "colab": {
     "base_uri": "https://localhost:8080/"
    },
    "id": "XA6qfTD15tZF",
    "outputId": "76d24474-b1b0-4927-c152-0a23de8dd767"
   },
   "outputs": [],
   "source": [
    "non_diabetic.info()"
   ]
  },
  {
   "cell_type": "code",
   "execution_count": null,
   "metadata": {},
   "outputs": [],
   "source": [
    "data.loc[500,'BMI']"
   ]
  },
  {
   "cell_type": "code",
   "execution_count": null,
   "metadata": {},
   "outputs": [],
   "source": [
    "data.loc[400:405,['BMI','DiabetesPedigreeFunction','Age']]"
   ]
  },
  {
   "cell_type": "code",
   "execution_count": null,
   "metadata": {},
   "outputs": [],
   "source": [
    "#"
   ]
  },
  {
   "cell_type": "markdown",
   "metadata": {
    "id": "vE6fKyfSKXW3"
   },
   "source": [
    "## Problem Statement - For inferential Statistical Analysis\n",
    "\n",
    "1. What is the average BMI for patients with Diabetes\n",
    "\n",
    "2. The objective is to calculate the mean BMI of patients with diabetes, and calculate a 95% confidence interval for mean BMI of patients with diabetes. "
   ]
  },
  {
   "cell_type": "code",
   "execution_count": null,
   "metadata": {
    "colab": {
     "base_uri": "https://localhost:8080/",
     "height": 337
    },
    "id": "BY1ABDzm5vPe",
    "outputId": "10d2c4eb-cabd-4bb5-dbc3-594c82ce4c6a"
   },
   "outputs": [],
   "source": [
    "sns.distplot(x=diabetic['BMI'])"
   ]
  },
  {
   "cell_type": "code",
   "execution_count": null,
   "metadata": {
    "colab": {
     "base_uri": "https://localhost:8080/"
    },
    "id": "XoO7eSx9Kb7b",
    "outputId": "3dfd6a03-fb88-4937-967d-f38af5980b6a"
   },
   "outputs": [],
   "source": [
    "import statistics\n",
    "import scipy.stats as st\n",
    "#calculating the confidence interval\n",
    "\n",
    "sample_mean = np.mean(diabetic['BMI'])\n",
    "sample_std = statistics.stdev(diabetic['BMI'])\n",
    "sample_std_err = st.sem(diabetic['BMI'])\n",
    "\n",
    "print(sample_mean, sample_std, sample_std_err)"
   ]
  },
  {
   "cell_type": "code",
   "execution_count": null,
   "metadata": {},
   "outputs": [],
   "source": [
    "#sample_std_err=sd of the sample/square root of the number of samples"
   ]
  },
  {
   "cell_type": "code",
   "execution_count": null,
   "metadata": {},
   "outputs": [],
   "source": [
    "7.26296724234637/16.3707055437449"
   ]
  },
  {
   "cell_type": "code",
   "execution_count": null,
   "metadata": {},
   "outputs": [],
   "source": [
    "import math"
   ]
  },
  {
   "cell_type": "code",
   "execution_count": null,
   "metadata": {},
   "outputs": [],
   "source": [
    "math.sqrt(268)"
   ]
  },
  {
   "cell_type": "code",
   "execution_count": null,
   "metadata": {},
   "outputs": [],
   "source": [
    "1 - 0.05"
   ]
  },
  {
   "cell_type": "code",
   "execution_count": null,
   "metadata": {
    "colab": {
     "base_uri": "https://localhost:8080/"
    },
    "id": "qDkgAGs-h5xq",
    "outputId": "d88e7252-68f6-4b5a-b490-ff2845a87a87"
   },
   "outputs": [],
   "source": [
    "Z_value = st.norm.ppf(0.95)\n",
    "\n",
    "lowerCI = sample_mean - (Z_value * sample_std_err)\n",
    "upperCI = sample_mean + (Z_value * sample_std_err)\n",
    "\n",
    "print(Z_value)\n",
    "print([lowerCI, upperCI])"
   ]
  },
  {
   "cell_type": "code",
   "execution_count": null,
   "metadata": {
    "colab": {
     "base_uri": "https://localhost:8080/",
     "height": 392
    },
    "id": "JqgXKK5la64i",
    "outputId": "fc6cfe26-bd4b-4209-a9d1-a979f004a888"
   },
   "outputs": [],
   "source": [
    "plt.figure(figsize=(15,5))\n",
    "sns.distplot(x=diabetic['BMI'])\n",
    "plt.axvline(x=lowerCI, color='red')\n",
    "plt.axvline(x=upperCI, color='red')\n",
    "plt.axvline(x=sample_mean, color='green')"
   ]
  },
  {
   "cell_type": "markdown",
   "metadata": {
    "id": "tVT2xQH-Fs9z"
   },
   "source": [
    "## Hypotheses Testing\n",
    "\n",
    "1. Null-Hypothesis - The Average BMI of diabetic patients is 35.14\n",
    "2. Alternate Hypothesis - The average BMI of diabetic patients is not 35.14. \n",
    "\n",
    "\n",
    "\n"
   ]
  },
  {
   "cell_type": "code",
   "execution_count": null,
   "metadata": {
    "id": "rBqF6iA6FSt0"
   },
   "outputs": [],
   "source": [
    "#z-test Hypotheses Testing\n",
    "random_sample = diabetic['BMI'][100:150]\n",
    "random_sample"
   ]
  },
  {
   "cell_type": "code",
   "execution_count": null,
   "metadata": {},
   "outputs": [],
   "source": [
    "mean_random_sample = np.mean(random_sample)\n",
    "mean_random_sample"
   ]
  },
  {
   "cell_type": "code",
   "execution_count": null,
   "metadata": {
    "colab": {
     "base_uri": "https://localhost:8080/"
    },
    "id": "b01ew7TZWhu7",
    "outputId": "c3371e45-3b54-47df-e83d-81bb9094bfa7"
   },
   "outputs": [],
   "source": [
    "from statsmodels.stats.weightstats import ztest\n",
    "\n",
    "z_test_score, p_value = ztest(random_sample, value=sample_mean)\n",
    "print(z_test_score, p_value) #fail to reject the null hyptheses. "
   ]
  },
  {
   "cell_type": "code",
   "execution_count": null,
   "metadata": {
    "id": "Z9eD1qW4aR4m"
   },
   "outputs": [],
   "source": [
    "35.086000000000006-35.14253731343278"
   ]
  }
 ],
 "metadata": {
  "colab": {
   "name": "Statistics and Probability",
   "provenance": []
  },
  "kernelspec": {
   "display_name": "Python 3 (ipykernel)",
   "language": "python",
   "name": "python3"
  },
  "language_info": {
   "codemirror_mode": {
    "name": "ipython",
    "version": 3
   },
   "file_extension": ".py",
   "mimetype": "text/x-python",
   "name": "python",
   "nbconvert_exporter": "python",
   "pygments_lexer": "ipython3",
   "version": "3.9.12"
  }
 },
 "nbformat": 4,
 "nbformat_minor": 1
}
