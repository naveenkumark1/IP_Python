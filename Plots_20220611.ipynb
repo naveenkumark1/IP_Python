{
 "cells": [
  {
   "cell_type": "code",
   "execution_count": null,
   "id": "1b69647f",
   "metadata": {},
   "outputs": [],
   "source": [
    "## Line plot "
   ]
  },
  {
   "cell_type": "code",
   "execution_count": null,
   "id": "dd113586",
   "metadata": {},
   "outputs": [],
   "source": [
    "# Packages\n",
    "import numpy as np\n",
    "import matplotlib.pyplot as plt\n",
    "\n",
    "#data\n",
    "a = np.linspace(0,10,20)\n",
    "b = np.linspace(10,30,20)\n",
    "\n",
    "# Graph\n",
    "fig = plt.figure(figsize=(5,2))\n",
    "ax1 = plt.subplot()\n",
    "\n",
    "#print(a)\n",
    "ax1.plot(a)\n",
    "ax1.plot(b)\n",
    "\n",
    "#plt.show()"
   ]
  },
  {
   "cell_type": "code",
   "execution_count": null,
   "id": "cc7c24b1",
   "metadata": {},
   "outputs": [],
   "source": [
    "# Plots compare\n",
    "import numpy as np\n",
    "import matplotlib.pyplot as plt\n",
    "\n",
    "a = np.linspace(0,10,20)\n",
    "b = np.linspace(5,0,20)\n",
    "\n",
    "fig = plt.figure(figsize=(5,6))\n",
    "\n",
    "ax1 = plt.subplot(221)\n",
    "ax2 = plt.subplot(224)\n",
    "\n",
    "ax1.plot(a,linewidth=2.0,linestyle='-',color='k',alpha = 0.8,marker ='o')\n",
    "ax2.plot(b,linewidth=1.0,linestyle='--',color='r',alpha = 1,marker ='^')\n",
    "\n",
    "ax1.set(title='a - Title')\n",
    "ax2.set(title='b - Title' )\n",
    "\n",
    "#plt.subplots_adjust(left=None,bottom=None,right=None,top=None,wspace=None,hspace=None)\n",
    "\n",
    "#plt.show()"
   ]
  },
  {
   "cell_type": "code",
   "execution_count": null,
   "id": "e9942e6a",
   "metadata": {},
   "outputs": [],
   "source": [
    "b"
   ]
  },
  {
   "cell_type": "code",
   "execution_count": null,
   "id": "a1c7558a",
   "metadata": {},
   "outputs": [],
   "source": [
    "a = range(0,5)\n",
    "list(a)\n",
    "\n",
    "b = [[1,2,3,4,5],[4,5,10,15,20],[2,3,4,5,6]]\n",
    "b"
   ]
  },
  {
   "cell_type": "code",
   "execution_count": null,
   "id": "4a5f44e9",
   "metadata": {},
   "outputs": [],
   "source": [
    "a = list(range(0,5))\n",
    "a"
   ]
  },
  {
   "cell_type": "code",
   "execution_count": null,
   "id": "e938a167",
   "metadata": {},
   "outputs": [],
   "source": [
    "# Area plot \n",
    "import matplotlib.pyplot as plt\n",
    "\n",
    "a = range(0,5)\n",
    "b = [[1,2,3,4,5],[4,5,10,15,20],[2,3,4,5,6]]\n",
    "\n",
    "fig = plt.figure(figsize=(10,5))\n",
    "\n",
    "ax1 = plt.subplot()\n",
    "\n",
    "ax1.stackplot(a,b)\n",
    "\n",
    "plt.title(\"Area Plot\")\n",
    "plt.xlabel('a - X label')\n",
    "plt.ylabel('b - y label')\n",
    "\n",
    "#plt.savefig('Areaplot.png')\n",
    "\n",
    "#plt.show()"
   ]
  },
  {
   "cell_type": "code",
   "execution_count": null,
   "id": "1a06d171",
   "metadata": {},
   "outputs": [],
   "source": [
    "## Bar plot\n",
    "import matplotlib.pyplot as plt\n",
    "\n",
    "data = {'apple':10,'orange':15,'lemon':5,'lime':20}\n",
    "names = list(data.keys())\n",
    "values = list(data.values())\n",
    "\n",
    "fig = plt.figure(figsize=(4,2))\n",
    "\n",
    "ax1 = plt.subplot()\n",
    "ax1.bar(names, values)\n",
    "\n",
    "plt.title('Bar Plot')\n",
    "\n",
    "plt.xlabel('Names')\n",
    "plt.ylabel('Values')\n",
    "\n",
    "#plt.show()"
   ]
  },
  {
   "cell_type": "code",
   "execution_count": null,
   "id": "41536c18",
   "metadata": {},
   "outputs": [],
   "source": [
    "## Bar plot\n",
    "import matplotlib.pyplot as plt\n",
    "\n",
    "data = {'apple':10,'orange':15,'lemon':5,'lime':20}\n",
    "names = list(data.keys())\n",
    "values = list(data.values())\n",
    "\n",
    "fig = plt.figure(figsize=(2,4))\n",
    "\n",
    "ax1 = plt.subplot()\n",
    "ax1.barh(names, values,color='orange')\n",
    "\n",
    "plt.title('Bar Plot')\n",
    "\n",
    "plt.xlabel('Names')\n",
    "plt.ylabel('Values')\n",
    "\n",
    "#plt.show()"
   ]
  },
  {
   "cell_type": "code",
   "execution_count": null,
   "id": "3e041e9d",
   "metadata": {},
   "outputs": [],
   "source": [
    "!pip install matplotlib"
   ]
  },
  {
   "cell_type": "code",
   "execution_count": null,
   "id": "ce3854a9",
   "metadata": {},
   "outputs": [],
   "source": [
    "# Scatter plot \n",
    "import matplotlib.pyplot as plt\n",
    "\n",
    "a = [10,20,30,40,50,60,70,80]\n",
    "b = [5,2,4,2,1,4,5,2]\n",
    "x = [1,2,3,4,3,2,1,2]\n",
    "\n",
    "fig = plt.figure(figsize=(5,4))\n",
    "\n",
    "ax1 = plt.subplot()\n",
    "\n",
    "ax1.scatter(a,b,    c='y',s=170,edgecolor='k',marker='o',alpha=0.9)\n",
    "ax1.scatter(a,x,    c='r',s=140,edgecolor='k',marker='4',alpha=1)\n",
    "\n",
    "plt.title('Scatter plot')\n",
    "plt.grid(True)\n",
    "\n",
    "#plt.savefig('scatter.png')\n",
    "plt.show()"
   ]
  },
  {
   "cell_type": "code",
   "execution_count": null,
   "id": "64d3a4b3",
   "metadata": {},
   "outputs": [],
   "source": [
    "## Histogram \n",
    "import matplotlib.pyplot as plt\n",
    "\n",
    "number = [12,32,43,65,4,23,54,76,87,98,89,87,123,234,34,234,45,56,578,564,897,345]\n",
    "fig = plt.figure(figsize=(4,2))\n",
    "\n",
    "ax1 = plt.subplot()\n",
    "\n",
    "ax1.hist(number, bins=5)\n",
    "plt.show()"
   ]
  },
  {
   "cell_type": "code",
   "execution_count": null,
   "id": "1aaaf06a",
   "metadata": {},
   "outputs": [],
   "source": [
    "import pandas as pd\n",
    "total = [20,4,1,30,20,10,20,70,30,10]\n",
    "orders = [10,3,1,15,17,2,30,44,2,1]\n",
    "discount = [30,20,10,5,20,10,60,20,40,1]\n",
    "\n",
    "df = pd.DataFrame(total)\n",
    "df.describe()"
   ]
  },
  {
   "cell_type": "code",
   "execution_count": null,
   "id": "92e175ec",
   "metadata": {},
   "outputs": [],
   "source": [
    "# Box plot\n",
    "import matplotlib.pyplot as plt\n",
    "\n",
    "total = [20,4,1,30,20,10,20,70,30,10]\n",
    "orders = [10,3,1,15,17,2,30,44,2,1]\n",
    "discount = [30,20,10,5,20,10,60,20,40,1]\n",
    "\n",
    "data = list([total,orders,discount])\n",
    "\n",
    "fig = plt.figure(figsize=(3,3))\n",
    "\n",
    "ax1 = plt.subplot()\n",
    "\n",
    "ax1.boxplot(data, showmeans=True)\n",
    "\n",
    "plt.title(\"Box_Plot\")\n",
    "plt.grid(True)\n",
    "\n",
    "#plt.savefig\n",
    "#plt.show()"
   ]
  },
  {
   "cell_type": "code",
   "execution_count": null,
   "id": "f796255c",
   "metadata": {},
   "outputs": [],
   "source": [
    "## Violin plot\n",
    "# Box plot\n",
    "import matplotlib.pyplot as plt\n",
    "\n",
    "total = [20,4,1,30,20,10,20,70,30,10]\n",
    "orders = [10,3,1,15,17,2,30,44,2,1]\n",
    "discount = [30,20,10,5,20,10,60,20,40,1]\n",
    "\n",
    "data = list([total,orders,discount])\n",
    "\n",
    "fig = plt.figure(figsize=(7,7))\n",
    "\n",
    "ax1 = plt.subplot()\n",
    "\n",
    "ax1.violinplot(data, showmeans=True)\n",
    "\n",
    "plt.title(\"Box_Plot\")\n",
    "plt.grid(True)\n",
    "\n",
    "#plt.savefig\n",
    "plt.show()"
   ]
  },
  {
   "cell_type": "code",
   "execution_count": null,
   "id": "2a9a9b2c",
   "metadata": {},
   "outputs": [],
   "source": [
    "#!pip install PIL\n",
    "#!pip install pillow"
   ]
  },
  {
   "cell_type": "code",
   "execution_count": null,
   "id": "b9bb10bc",
   "metadata": {},
   "outputs": [],
   "source": [
    "## Image plot \n",
    "from PIL import Image\n",
    "import numpy as np\n",
    "import matplotlib.pyplot as plt \n",
    "\n",
    "img = Image.open('Index.png')\n",
    "arr = np.array(img)\n",
    "#print(arr[2])\n",
    "print(arr.ndim)\n",
    "fig = plt.figure(figsize=(10,20))\n",
    "ax1 = plt.subplot()\n",
    "\n",
    "ax1.imshow(arr)"
   ]
  },
  {
   "cell_type": "code",
   "execution_count": null,
   "id": "15b15ee4",
   "metadata": {},
   "outputs": [],
   "source": [
    "arr[2]"
   ]
  },
  {
   "cell_type": "code",
   "execution_count": null,
   "id": "a529d4a0",
   "metadata": {},
   "outputs": [],
   "source": [
    "## Pie chart \n",
    "import matplotlib.pyplot as plt \n",
    "\n",
    "lab = ['Frogs','Hogs','Dogs','Logs']\n",
    "sizes = [15,30,45,1]\n",
    "\n",
    "exp = (0,0.2,0,0)\n",
    "\n",
    "fig=plt.figure(figsize=(5,7))\n",
    "\n",
    "ax1 = plt.subplot()\n",
    "#ax1.pie(sizes,explode=explode, labels= labels, autopct='%1.1f%%',shadow=True,startangle=180)\n",
    "\n",
    "ax1.pie(sizes,labels= lab,autopct='%0.3f%%',shadow=True,explode=exp,startangle=0)\n",
    "\n",
    "plt.title('Pie chart')\n",
    "#plt.savefig('PieChart2.png')\n",
    "#plt.show()"
   ]
  },
  {
   "cell_type": "code",
   "execution_count": null,
   "id": "389f49de",
   "metadata": {},
   "outputs": [],
   "source": [
    "!pip install seaborn"
   ]
  },
  {
   "cell_type": "code",
   "execution_count": null,
   "id": "316835bb",
   "metadata": {},
   "outputs": [],
   "source": [
    "import seaborn as sns\n",
    "sns.set_theme(style=\"darkgrid\")\n",
    "\n",
    "# Load an example dataset with long-form data\n",
    "fmri = sns.load_dataset(\"fmri\")\n",
    "\n",
    "# Plot the responses for different events and regions\n",
    "sns.lineplot(x=\"timepoint\", y=\"signal\",\n",
    "             hue=\"region\", style=\"event\",\n",
    "             data=fmri)"
   ]
  },
  {
   "cell_type": "code",
   "execution_count": null,
   "id": "237e8ded",
   "metadata": {},
   "outputs": [],
   "source": [
    "import seaborn as sns\n",
    "sns.set_theme(style=\"white\")\n",
    "\n",
    "# Load the example mpg dataset\n",
    "mpg = sns.load_dataset(\"mpg\")\n",
    "\n",
    "# Plot miles per gallon against horsepower with other semantics\n",
    "sns.relplot(x=\"horsepower\", y=\"mpg\", hue=\"origin\", size=\"weight\",\n",
    "            sizes=(40, 400), alpha=.5, palette=\"muted\",\n",
    "            height=6, data=mpg)"
   ]
  },
  {
   "cell_type": "code",
   "execution_count": null,
   "id": "b666f37a",
   "metadata": {},
   "outputs": [],
   "source": [
    "import matplotlib.pyplot as plt\n",
    "import numpy as np\n",
    "\n",
    "\n",
    "labels = ['G1', 'G2', 'G3', 'G4', 'G5']\n",
    "men_means = [20, 34, 30, 35, 27]\n",
    "women_means = [25, 32, 34, 20, 25]\n",
    "\n",
    "x = np.arange(len(labels))  # the label locations\n",
    "width = 0.35  # the width of the bars\n",
    "\n",
    "fig, ax = plt.subplots()\n",
    "rects1 = ax.bar(x - width/2, men_means, width, label='Men')\n",
    "rects2 = ax.bar(x + width/2, women_means, width, label='Women')\n",
    "\n",
    "# Add some text for labels, title and custom x-axis tick labels, etc.\n",
    "ax.set_ylabel('Scores')\n",
    "ax.set_title('Scores by group and gender')\n",
    "#ax.set_xticks(x, labels)\n",
    "ax.legend()\n",
    "\n",
    "ax.bar_label(rects1, padding=3)\n",
    "ax.bar_label(rects2, padding=3)\n",
    "\n",
    "fig.tight_layout()\n",
    "\n",
    "plt.show()"
   ]
  },
  {
   "cell_type": "code",
   "execution_count": null,
   "id": "187b3736",
   "metadata": {},
   "outputs": [],
   "source": [
    "## Exercise \n",
    "import pandas as pd\n",
    "cars = pd.read_csv(\"mtcars2.csv\")\n",
    "cars"
   ]
  },
  {
   "cell_type": "code",
   "execution_count": null,
   "id": "ea3efb92",
   "metadata": {},
   "outputs": [],
   "source": [
    "import matplotlib.pyplot as plt \n",
    "import numpy as np \n",
    "\n",
    "a=cars['wt'] \n",
    "\n",
    "fig=plt.figure(figsize=(3,2)) \n",
    "ax1=plt.subplot() \n",
    "\n",
    "ax1.plot(a) "
   ]
  },
  {
   "cell_type": "code",
   "execution_count": null,
   "id": "ee4a8970",
   "metadata": {},
   "outputs": [],
   "source": [
    "import seaborn as sns\n",
    "import matplotlib.pyplot as plt\n",
    "sns.set_theme(style=\"whitegrid\")\n",
    "\n",
    "# Load the example diamonds dataset\n",
    "diamonds = sns.load_dataset(\"diamonds\")\n",
    "\n",
    "# Draw a scatter plot while assigning point colors and sizes to different\n",
    "# variables in the dataset\n",
    "f, ax = plt.subplots(figsize=(6.5, 6.5))\n",
    "sns.despine(f, left=True, bottom=True)\n",
    "clarity_ranking = [\"I1\", \"SI2\", \"SI1\", \"VS2\", \"VS1\", \"VVS2\", \"VVS1\", \"IF\"]\n",
    "sns.scatterplot(x=\"carat\", y=\"price\",\n",
    "                hue=\"clarity\", size=\"depth\",\n",
    "                palette=\"ch:r=-.2,d=.3_r\",\n",
    "                hue_order=clarity_ranking,\n",
    "                sizes=(1, 8), linewidth=0,\n",
    "                data=diamonds, ax=ax)"
   ]
  },
  {
   "cell_type": "code",
   "execution_count": null,
   "id": "5a9d247f",
   "metadata": {},
   "outputs": [],
   "source": []
  }
 ],
 "metadata": {
  "kernelspec": {
   "display_name": "Python 3 (ipykernel)",
   "language": "python",
   "name": "python3"
  },
  "language_info": {
   "codemirror_mode": {
    "name": "ipython",
    "version": 3
   },
   "file_extension": ".py",
   "mimetype": "text/x-python",
   "name": "python",
   "nbconvert_exporter": "python",
   "pygments_lexer": "ipython3",
   "version": "3.9.12"
  }
 },
 "nbformat": 4,
 "nbformat_minor": 5
}
