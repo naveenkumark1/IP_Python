{
 "cells": [
  {
   "cell_type": "markdown",
   "metadata": {},
   "source": [
    "#Mathematical and Bayesian Models\n",
    "\n",
    "### Demo 2 : K Nearest Neighbor Classifier"
   ]
  },
  {
   "cell_type": "markdown",
   "metadata": {},
   "source": [
    "In this demo, you will learn how to apply KNN algorithm in Python using scikit-learn library."
   ]
  },
  {
   "cell_type": "markdown",
   "metadata": {},
   "source": [
    "---"
   ]
  },
  {
   "cell_type": "markdown",
   "metadata": {},
   "source": [
    "## Problem Statement"
   ]
  },
  {
   "cell_type": "markdown",
   "metadata": {},
   "source": [
    "Given the details of cars, we have to classify the origin of the cars."
   ]
  },
  {
   "cell_type": "markdown",
   "metadata": {},
   "source": [
    "---"
   ]
  },
  {
   "cell_type": "markdown",
   "metadata": {},
   "source": [
    "## Importing Required Libraries"
   ]
  },
  {
   "cell_type": "code",
   "execution_count": 1,
   "metadata": {},
   "outputs": [],
   "source": [
    "import pandas as pd\n",
    "import matplotlib.pyplot as plt\n",
    "import numpy as np\n",
    "from sklearn.model_selection import train_test_split\n",
    "from sklearn.preprocessing import LabelEncoder\n",
    "from sklearn.preprocessing import MinMaxScaler\n",
    "from sklearn.neighbors import KNeighborsClassifier\n",
    "from sklearn.metrics import accuracy_score\n",
    "from sklearn.metrics import roc_curve, roc_auc_score\n",
    "from io import StringIO\n",
    "\n",
    "from matplotlib.colors import ListedColormap\n",
    "#%matplotlib inline"
   ]
  },
  {
   "cell_type": "markdown",
   "metadata": {},
   "source": [
    "---"
   ]
  },
  {
   "cell_type": "markdown",
   "metadata": {},
   "source": [
    "## Dataset"
   ]
  },
  {
   "cell_type": "markdown",
   "metadata": {},
   "source": [
    "This dataset is a slightly modified version of the dataset provided in the StatLib library. In line with the use by Ross Quinlan (1993) in predicting the attribute \"mpg\", 8 of the original instances were removed because they had unknown values for the \"mpg\" attribute. The original dataset is available in the file \"auto-mpg.data-original\".\n",
    "\n",
    "\"The data concerns city-cycle fuel consumption in miles per gallon, to be predicted in terms of 3 multivalued discrete and 5 continuous attributes.\" \n",
    "Attribute Information:\n",
    "\n",
    "- __mpg__: continuous\n",
    "- __cylinders__: multi-valued discrete\n",
    "- __displacement__: continuous\n",
    "- __horsepower__: continuous\n",
    "- __weight__: continuous\n",
    "- __acceleration__: continuous\n",
    "- __model year__: multi-valued discrete\n",
    "- __origin__: multi-valued discrete\n",
    "- __car name__: string (unique for each instance)"
   ]
  },
  {
   "cell_type": "markdown",
   "metadata": {},
   "source": [
    "---"
   ]
  },
  {
   "cell_type": "markdown",
   "metadata": {},
   "source": [
    "## Data Analysis"
   ]
  },
  {
   "cell_type": "code",
   "execution_count": 3,
   "metadata": {},
   "outputs": [],
   "source": [
    "auto_data=pd.read_csv('auto-mpg.csv')"
   ]
  },
  {
   "cell_type": "markdown",
   "metadata": {},
   "source": [
    "<div style=\"background-color:##EDF9FF\">\n",
    "  <ul><li><h3> Checking Data</h3></li></ul>\n",
    "</div>"
   ]
  },
  {
   "cell_type": "code",
   "execution_count": 4,
   "metadata": {},
   "outputs": [
    {
     "data": {
      "text/html": [
       "<div>\n",
       "<style scoped>\n",
       "    .dataframe tbody tr th:only-of-type {\n",
       "        vertical-align: middle;\n",
       "    }\n",
       "\n",
       "    .dataframe tbody tr th {\n",
       "        vertical-align: top;\n",
       "    }\n",
       "\n",
       "    .dataframe thead th {\n",
       "        text-align: right;\n",
       "    }\n",
       "</style>\n",
       "<table border=\"1\" class=\"dataframe\">\n",
       "  <thead>\n",
       "    <tr style=\"text-align: right;\">\n",
       "      <th></th>\n",
       "      <th>mpg</th>\n",
       "      <th>cylinders</th>\n",
       "      <th>displacement</th>\n",
       "      <th>horsepower</th>\n",
       "      <th>weight</th>\n",
       "      <th>acceleration</th>\n",
       "      <th>model year</th>\n",
       "      <th>origin</th>\n",
       "      <th>car name</th>\n",
       "    </tr>\n",
       "  </thead>\n",
       "  <tbody>\n",
       "    <tr>\n",
       "      <th>0</th>\n",
       "      <td>18.0</td>\n",
       "      <td>8</td>\n",
       "      <td>307.0</td>\n",
       "      <td>130.0</td>\n",
       "      <td>3504</td>\n",
       "      <td>12.0</td>\n",
       "      <td>70</td>\n",
       "      <td>1</td>\n",
       "      <td>chevrolet chevelle malibu</td>\n",
       "    </tr>\n",
       "    <tr>\n",
       "      <th>1</th>\n",
       "      <td>15.0</td>\n",
       "      <td>8</td>\n",
       "      <td>350.0</td>\n",
       "      <td>165.0</td>\n",
       "      <td>3693</td>\n",
       "      <td>11.5</td>\n",
       "      <td>70</td>\n",
       "      <td>1</td>\n",
       "      <td>buick skylark 320</td>\n",
       "    </tr>\n",
       "    <tr>\n",
       "      <th>2</th>\n",
       "      <td>18.0</td>\n",
       "      <td>8</td>\n",
       "      <td>318.0</td>\n",
       "      <td>150.0</td>\n",
       "      <td>3436</td>\n",
       "      <td>11.0</td>\n",
       "      <td>70</td>\n",
       "      <td>1</td>\n",
       "      <td>plymouth satellite</td>\n",
       "    </tr>\n",
       "    <tr>\n",
       "      <th>3</th>\n",
       "      <td>16.0</td>\n",
       "      <td>8</td>\n",
       "      <td>304.0</td>\n",
       "      <td>150.0</td>\n",
       "      <td>3433</td>\n",
       "      <td>12.0</td>\n",
       "      <td>70</td>\n",
       "      <td>1</td>\n",
       "      <td>amc rebel sst</td>\n",
       "    </tr>\n",
       "    <tr>\n",
       "      <th>4</th>\n",
       "      <td>17.0</td>\n",
       "      <td>8</td>\n",
       "      <td>302.0</td>\n",
       "      <td>140.0</td>\n",
       "      <td>3449</td>\n",
       "      <td>10.5</td>\n",
       "      <td>70</td>\n",
       "      <td>1</td>\n",
       "      <td>ford torino</td>\n",
       "    </tr>\n",
       "  </tbody>\n",
       "</table>\n",
       "</div>"
      ],
      "text/plain": [
       "    mpg  cylinders  displacement  horsepower  weight  acceleration  \\\n",
       "0  18.0          8         307.0       130.0    3504          12.0   \n",
       "1  15.0          8         350.0       165.0    3693          11.5   \n",
       "2  18.0          8         318.0       150.0    3436          11.0   \n",
       "3  16.0          8         304.0       150.0    3433          12.0   \n",
       "4  17.0          8         302.0       140.0    3449          10.5   \n",
       "\n",
       "   model year  origin                   car name  \n",
       "0          70       1  chevrolet chevelle malibu  \n",
       "1          70       1          buick skylark 320  \n",
       "2          70       1         plymouth satellite  \n",
       "3          70       1              amc rebel sst  \n",
       "4          70       1                ford torino  "
      ]
     },
     "execution_count": 4,
     "metadata": {},
     "output_type": "execute_result"
    }
   ],
   "source": [
    "auto_data.head()"
   ]
  },
  {
   "cell_type": "code",
   "execution_count": 5,
   "metadata": {
    "scrolled": true
   },
   "outputs": [
    {
     "data": {
      "text/plain": [
       "(398, 9)"
      ]
     },
     "execution_count": 5,
     "metadata": {},
     "output_type": "execute_result"
    }
   ],
   "source": [
    "auto_data.shape"
   ]
  },
  {
   "cell_type": "markdown",
   "metadata": {},
   "source": [
    "<div style=\"background-color:##FBFFE3\">\n",
    "    <div style=\"float:left\">\n",
    "        <img src='https://drive.google.com/uc?export=download&id=1gpc8kbwaenTpaIvnO_MQR3vw12rKYQrJ', width=20,height=20,>\n",
    "    </div>\n",
    "    <span style=\"padding:20px;\">Number of rows and columns </span>\n",
    "</div>"
   ]
  },
  {
   "cell_type": "code",
   "execution_count": 6,
   "metadata": {},
   "outputs": [
    {
     "data": {
      "text/html": [
       "<div>\n",
       "<style scoped>\n",
       "    .dataframe tbody tr th:only-of-type {\n",
       "        vertical-align: middle;\n",
       "    }\n",
       "\n",
       "    .dataframe tbody tr th {\n",
       "        vertical-align: top;\n",
       "    }\n",
       "\n",
       "    .dataframe thead th {\n",
       "        text-align: right;\n",
       "    }\n",
       "</style>\n",
       "<table border=\"1\" class=\"dataframe\">\n",
       "  <thead>\n",
       "    <tr style=\"text-align: right;\">\n",
       "      <th></th>\n",
       "      <th>mpg</th>\n",
       "      <th>cylinders</th>\n",
       "      <th>displacement</th>\n",
       "      <th>horsepower</th>\n",
       "      <th>weight</th>\n",
       "      <th>acceleration</th>\n",
       "      <th>model year</th>\n",
       "      <th>origin</th>\n",
       "    </tr>\n",
       "  </thead>\n",
       "  <tbody>\n",
       "    <tr>\n",
       "      <th>count</th>\n",
       "      <td>398.000000</td>\n",
       "      <td>398.000000</td>\n",
       "      <td>398.000000</td>\n",
       "      <td>392.000000</td>\n",
       "      <td>398.000000</td>\n",
       "      <td>398.000000</td>\n",
       "      <td>398.000000</td>\n",
       "      <td>398.000000</td>\n",
       "    </tr>\n",
       "    <tr>\n",
       "      <th>mean</th>\n",
       "      <td>23.514573</td>\n",
       "      <td>5.454774</td>\n",
       "      <td>193.425879</td>\n",
       "      <td>104.469388</td>\n",
       "      <td>2970.424623</td>\n",
       "      <td>15.568090</td>\n",
       "      <td>76.010050</td>\n",
       "      <td>1.572864</td>\n",
       "    </tr>\n",
       "    <tr>\n",
       "      <th>std</th>\n",
       "      <td>7.815984</td>\n",
       "      <td>1.701004</td>\n",
       "      <td>104.269838</td>\n",
       "      <td>38.491160</td>\n",
       "      <td>846.841774</td>\n",
       "      <td>2.757689</td>\n",
       "      <td>3.697627</td>\n",
       "      <td>0.802055</td>\n",
       "    </tr>\n",
       "    <tr>\n",
       "      <th>min</th>\n",
       "      <td>9.000000</td>\n",
       "      <td>3.000000</td>\n",
       "      <td>68.000000</td>\n",
       "      <td>46.000000</td>\n",
       "      <td>1613.000000</td>\n",
       "      <td>8.000000</td>\n",
       "      <td>70.000000</td>\n",
       "      <td>1.000000</td>\n",
       "    </tr>\n",
       "    <tr>\n",
       "      <th>25%</th>\n",
       "      <td>17.500000</td>\n",
       "      <td>4.000000</td>\n",
       "      <td>104.250000</td>\n",
       "      <td>75.000000</td>\n",
       "      <td>2223.750000</td>\n",
       "      <td>13.825000</td>\n",
       "      <td>73.000000</td>\n",
       "      <td>1.000000</td>\n",
       "    </tr>\n",
       "    <tr>\n",
       "      <th>50%</th>\n",
       "      <td>23.000000</td>\n",
       "      <td>4.000000</td>\n",
       "      <td>148.500000</td>\n",
       "      <td>93.500000</td>\n",
       "      <td>2803.500000</td>\n",
       "      <td>15.500000</td>\n",
       "      <td>76.000000</td>\n",
       "      <td>1.000000</td>\n",
       "    </tr>\n",
       "    <tr>\n",
       "      <th>75%</th>\n",
       "      <td>29.000000</td>\n",
       "      <td>8.000000</td>\n",
       "      <td>262.000000</td>\n",
       "      <td>126.000000</td>\n",
       "      <td>3608.000000</td>\n",
       "      <td>17.175000</td>\n",
       "      <td>79.000000</td>\n",
       "      <td>2.000000</td>\n",
       "    </tr>\n",
       "    <tr>\n",
       "      <th>max</th>\n",
       "      <td>46.600000</td>\n",
       "      <td>8.000000</td>\n",
       "      <td>455.000000</td>\n",
       "      <td>230.000000</td>\n",
       "      <td>5140.000000</td>\n",
       "      <td>24.800000</td>\n",
       "      <td>82.000000</td>\n",
       "      <td>3.000000</td>\n",
       "    </tr>\n",
       "  </tbody>\n",
       "</table>\n",
       "</div>"
      ],
      "text/plain": [
       "              mpg   cylinders  displacement  horsepower       weight  \\\n",
       "count  398.000000  398.000000    398.000000  392.000000   398.000000   \n",
       "mean    23.514573    5.454774    193.425879  104.469388  2970.424623   \n",
       "std      7.815984    1.701004    104.269838   38.491160   846.841774   \n",
       "min      9.000000    3.000000     68.000000   46.000000  1613.000000   \n",
       "25%     17.500000    4.000000    104.250000   75.000000  2223.750000   \n",
       "50%     23.000000    4.000000    148.500000   93.500000  2803.500000   \n",
       "75%     29.000000    8.000000    262.000000  126.000000  3608.000000   \n",
       "max     46.600000    8.000000    455.000000  230.000000  5140.000000   \n",
       "\n",
       "       acceleration  model year      origin  \n",
       "count    398.000000  398.000000  398.000000  \n",
       "mean      15.568090   76.010050    1.572864  \n",
       "std        2.757689    3.697627    0.802055  \n",
       "min        8.000000   70.000000    1.000000  \n",
       "25%       13.825000   73.000000    1.000000  \n",
       "50%       15.500000   76.000000    1.000000  \n",
       "75%       17.175000   79.000000    2.000000  \n",
       "max       24.800000   82.000000    3.000000  "
      ]
     },
     "execution_count": 6,
     "metadata": {},
     "output_type": "execute_result"
    }
   ],
   "source": [
    "auto_data.describe()"
   ]
  },
  {
   "cell_type": "code",
   "execution_count": 5,
   "metadata": {},
   "outputs": [
    {
     "data": {
      "text/html": [
       "<div>\n",
       "<style scoped>\n",
       "    .dataframe tbody tr th:only-of-type {\n",
       "        vertical-align: middle;\n",
       "    }\n",
       "\n",
       "    .dataframe tbody tr th {\n",
       "        vertical-align: top;\n",
       "    }\n",
       "\n",
       "    .dataframe thead th {\n",
       "        text-align: right;\n",
       "    }\n",
       "</style>\n",
       "<table border=\"1\" class=\"dataframe\">\n",
       "  <thead>\n",
       "    <tr style=\"text-align: right;\">\n",
       "      <th></th>\n",
       "      <th>car name</th>\n",
       "    </tr>\n",
       "  </thead>\n",
       "  <tbody>\n",
       "    <tr>\n",
       "      <th>count</th>\n",
       "      <td>398</td>\n",
       "    </tr>\n",
       "    <tr>\n",
       "      <th>unique</th>\n",
       "      <td>305</td>\n",
       "    </tr>\n",
       "    <tr>\n",
       "      <th>top</th>\n",
       "      <td>ford pinto</td>\n",
       "    </tr>\n",
       "    <tr>\n",
       "      <th>freq</th>\n",
       "      <td>6</td>\n",
       "    </tr>\n",
       "  </tbody>\n",
       "</table>\n",
       "</div>"
      ],
      "text/plain": [
       "          car name\n",
       "count          398\n",
       "unique         305\n",
       "top     ford pinto\n",
       "freq             6"
      ]
     },
     "execution_count": 5,
     "metadata": {},
     "output_type": "execute_result"
    }
   ],
   "source": [
    "auto_data.describe(include='O')"
   ]
  },
  {
   "cell_type": "markdown",
   "metadata": {},
   "source": [
    "<div style=\"background-color:##FBFFE3\">\n",
    "    <div style=\"float:left\">\n",
    "        <img src='https://drive.google.com/uc?export=download&id=1gpc8kbwaenTpaIvnO_MQR3vw12rKYQrJ', width=20,height=20,>\n",
    "    </div>\n",
    "    <span style=\"padding:20px;\">We can see how many unique values and frquecy of majority values in each categoical column are present.</span>\n",
    "</div>"
   ]
  },
  {
   "cell_type": "markdown",
   "metadata": {},
   "source": [
    "<div style=\"background-color:##FBFFE3\">\n",
    "    <div style=\"float:left\">\n",
    "        <img src='https://drive.google.com/uc?export=download&id=1gpc8kbwaenTpaIvnO_MQR3vw12rKYQrJ', width=20,height=20,>\n",
    "    </div>\n",
    "    <span style=\"padding:20px;\">We can check standard deviation, mean and other values of all continous columns present in the dataset.</span>\n",
    "</div>"
   ]
  },
  {
   "cell_type": "markdown",
   "metadata": {},
   "source": [
    "<div style=\"background-color:##EDF9FF\">\n",
    "  <ul><li><h3>Checking DataType</h3></li></ul>\n",
    "</div>"
   ]
  },
  {
   "cell_type": "code",
   "execution_count": 8,
   "metadata": {},
   "outputs": [
    {
     "data": {
      "text/plain": [
       "mpg             float64\n",
       "cylinders         int64\n",
       "displacement    float64\n",
       "horsepower      float64\n",
       "weight            int64\n",
       "acceleration    float64\n",
       "model year        int64\n",
       "origin            int64\n",
       "car name         object\n",
       "dtype: object"
      ]
     },
     "execution_count": 8,
     "metadata": {},
     "output_type": "execute_result"
    }
   ],
   "source": [
    "auto_data.dtypes"
   ]
  },
  {
   "cell_type": "markdown",
   "metadata": {},
   "source": [
    "<div style=\"background-color:##FBFFE3\">\n",
    "    <div style=\"float:left\">\n",
    "        <img src='https://drive.google.com/uc?export=download&id=1gpc8kbwaenTpaIvnO_MQR3vw12rKYQrJ', width=20,height=20,>\n",
    "    </div>\n",
    "    <span style=\"padding:20px;\">We will have to encode the categorical features later</span>\n",
    "</div>"
   ]
  },
  {
   "cell_type": "markdown",
   "metadata": {},
   "source": [
    "<div style=\"background-color:##EDF9FF\">\n",
    "  <ul><li><h3> Testing For Null Values</h3></li></ul>\n",
    "</div>"
   ]
  },
  {
   "cell_type": "code",
   "execution_count": 7,
   "metadata": {
    "scrolled": true
   },
   "outputs": [
    {
     "data": {
      "text/plain": [
       "mpg             0\n",
       "cylinders       0\n",
       "displacement    0\n",
       "horsepower      6\n",
       "weight          0\n",
       "acceleration    0\n",
       "model year      0\n",
       "origin          0\n",
       "car name        0\n",
       "dtype: int64"
      ]
     },
     "execution_count": 7,
     "metadata": {},
     "output_type": "execute_result"
    }
   ],
   "source": [
    "auto_data.isnull().sum()"
   ]
  },
  {
   "cell_type": "markdown",
   "metadata": {},
   "source": [
    "<div style=\"background-color:##FBFFE3\">\n",
    "    <div style=\"float:left\">\n",
    "        <img src='https://drive.google.com/uc?export=download&id=1gpc8kbwaenTpaIvnO_MQR3vw12rKYQrJ', width=20,height=20,>\n",
    "    </div>\n",
    "    <span style=\"padding:20px;\">Dataset has 6 null values in horsepower column</span>\n",
    "</div>"
   ]
  },
  {
   "cell_type": "code",
   "execution_count": 9,
   "metadata": {
    "scrolled": true
   },
   "outputs": [
    {
     "data": {
      "text/plain": [
       "mpg             0\n",
       "cylinders       0\n",
       "displacement    0\n",
       "horsepower      6\n",
       "weight          0\n",
       "acceleration    0\n",
       "model year      0\n",
       "origin          0\n",
       "car name        0\n",
       "dtype: int64"
      ]
     },
     "execution_count": 9,
     "metadata": {},
     "output_type": "execute_result"
    }
   ],
   "source": [
    "auto_data.isna().sum()"
   ]
  },
  {
   "cell_type": "markdown",
   "metadata": {},
   "source": [
    "<div style=\"background-color:##FBFFE3\">\n",
    "    <div style=\"float:left\">\n",
    "        <img src='https://drive.google.com/uc?export=download&id=1gpc8kbwaenTpaIvnO_MQR3vw12rKYQrJ', width=20,height=20,>\n",
    "    </div>\n",
    "    <span style=\"padding:20px;\">Dataset has no NA values</span>\n",
    "</div>"
   ]
  },
  {
   "cell_type": "markdown",
   "metadata": {},
   "source": [
    "<div style=\"background-color:##EDF9FF\">\n",
    "  <ul><li><h3> Treating Null Values</h3></li></ul>\n",
    "</div>"
   ]
  },
  {
   "cell_type": "code",
   "execution_count": 14,
   "metadata": {},
   "outputs": [
    {
     "data": {
      "text/plain": [
       "104.46938775510205"
      ]
     },
     "execution_count": 14,
     "metadata": {},
     "output_type": "execute_result"
    }
   ],
   "source": [
    "auto_data.horsepower.mean()"
   ]
  },
  {
   "cell_type": "code",
   "execution_count": 15,
   "metadata": {},
   "outputs": [],
   "source": [
    "auto_data.horsepower=auto_data.horsepower.fillna(auto_data.horsepower.mean())"
   ]
  },
  {
   "cell_type": "code",
   "execution_count": 16,
   "metadata": {
    "scrolled": true
   },
   "outputs": [
    {
     "data": {
      "text/plain": [
       "mpg             0\n",
       "cylinders       0\n",
       "displacement    0\n",
       "horsepower      0\n",
       "weight          0\n",
       "acceleration    0\n",
       "model year      0\n",
       "origin          0\n",
       "car name        0\n",
       "dtype: int64"
      ]
     },
     "execution_count": 16,
     "metadata": {},
     "output_type": "execute_result"
    }
   ],
   "source": [
    "auto_data.isnull().sum()"
   ]
  },
  {
   "cell_type": "markdown",
   "metadata": {},
   "source": [
    "<div style=\"background-color:##FBFFE3\">\n",
    "    <div style=\"float:left\">\n",
    "        <img src='https://drive.google.com/uc?export=download&id=1gpc8kbwaenTpaIvnO_MQR3vw12rKYQrJ', width=20,height=20,>\n",
    "    </div>\n",
    "    <span style=\"padding:20px;\">No null values in the dataset now.</span>\n",
    "</div>"
   ]
  },
  {
   "cell_type": "markdown",
   "metadata": {},
   "source": [
    "<div style=\"background-color:##EDF9FF\">\n",
    "  <ul><li><h3> Predictor And Data</h3></li></ul>\n",
    "</div>"
   ]
  },
  {
   "cell_type": "code",
   "execution_count": 17,
   "metadata": {},
   "outputs": [
    {
     "data": {
      "text/plain": [
       "Index(['mpg', 'cylinders', 'displacement', 'horsepower', 'weight',\n",
       "       'acceleration', 'model year', 'origin', 'car name'],\n",
       "      dtype='object')"
      ]
     },
     "execution_count": 17,
     "metadata": {},
     "output_type": "execute_result"
    }
   ],
   "source": [
    "auto_data.columns"
   ]
  },
  {
   "cell_type": "code",
   "execution_count": 12,
   "metadata": {},
   "outputs": [
    {
     "name": "stdout",
     "output_type": "stream",
     "text": [
      "mpg | cylinders | displacement | horsepower | weight | acceleration | model year | origin | car name\n"
     ]
    }
   ],
   "source": [
    "print(*auto_data.columns,sep=' | ')"
   ]
  },
  {
   "cell_type": "markdown",
   "metadata": {},
   "source": [
    "<div style=\"background-color:##FBFFE3\">\n",
    "    <div style=\"float:left\">\n",
    "        <img src='https://drive.google.com/uc?export=download&id=1gpc8kbwaenTpaIvnO_MQR3vw12rKYQrJ', width=20,height=20,>\n",
    "    </div>\n",
    "    <span style=\"padding:20px;\">Dropping car name as it is not useful in predicting the origin.</span>\n",
    "</div>"
   ]
  },
  {
   "cell_type": "code",
   "execution_count": 20,
   "metadata": {},
   "outputs": [
    {
     "data": {
      "text/plain": [
       "Index(['mpg', 'cylinders', 'displacement', 'horsepower', 'weight',\n",
       "       'acceleration', 'model year', 'origin', 'car name'],\n",
       "      dtype='object')"
      ]
     },
     "execution_count": 20,
     "metadata": {},
     "output_type": "execute_result"
    }
   ],
   "source": [
    "auto_data.columns"
   ]
  },
  {
   "cell_type": "code",
   "execution_count": 24,
   "metadata": {},
   "outputs": [],
   "source": [
    "feat=auto_data.columns\n",
    "feat=feat.drop(['car name', 'origin'])"
   ]
  },
  {
   "cell_type": "code",
   "execution_count": 25,
   "metadata": {},
   "outputs": [],
   "source": [
    "X=auto_data[feat]\n",
    "y=auto_data.origin"
   ]
  },
  {
   "cell_type": "code",
   "execution_count": 26,
   "metadata": {
    "scrolled": true
   },
   "outputs": [
    {
     "data": {
      "text/html": [
       "<div>\n",
       "<style scoped>\n",
       "    .dataframe tbody tr th:only-of-type {\n",
       "        vertical-align: middle;\n",
       "    }\n",
       "\n",
       "    .dataframe tbody tr th {\n",
       "        vertical-align: top;\n",
       "    }\n",
       "\n",
       "    .dataframe thead th {\n",
       "        text-align: right;\n",
       "    }\n",
       "</style>\n",
       "<table border=\"1\" class=\"dataframe\">\n",
       "  <thead>\n",
       "    <tr style=\"text-align: right;\">\n",
       "      <th></th>\n",
       "      <th>mpg</th>\n",
       "      <th>cylinders</th>\n",
       "      <th>displacement</th>\n",
       "      <th>horsepower</th>\n",
       "      <th>weight</th>\n",
       "      <th>acceleration</th>\n",
       "      <th>model year</th>\n",
       "    </tr>\n",
       "  </thead>\n",
       "  <tbody>\n",
       "    <tr>\n",
       "      <th>0</th>\n",
       "      <td>18.0</td>\n",
       "      <td>8</td>\n",
       "      <td>307.0</td>\n",
       "      <td>130.0</td>\n",
       "      <td>3504</td>\n",
       "      <td>12.0</td>\n",
       "      <td>70</td>\n",
       "    </tr>\n",
       "    <tr>\n",
       "      <th>1</th>\n",
       "      <td>15.0</td>\n",
       "      <td>8</td>\n",
       "      <td>350.0</td>\n",
       "      <td>165.0</td>\n",
       "      <td>3693</td>\n",
       "      <td>11.5</td>\n",
       "      <td>70</td>\n",
       "    </tr>\n",
       "    <tr>\n",
       "      <th>2</th>\n",
       "      <td>18.0</td>\n",
       "      <td>8</td>\n",
       "      <td>318.0</td>\n",
       "      <td>150.0</td>\n",
       "      <td>3436</td>\n",
       "      <td>11.0</td>\n",
       "      <td>70</td>\n",
       "    </tr>\n",
       "    <tr>\n",
       "      <th>3</th>\n",
       "      <td>16.0</td>\n",
       "      <td>8</td>\n",
       "      <td>304.0</td>\n",
       "      <td>150.0</td>\n",
       "      <td>3433</td>\n",
       "      <td>12.0</td>\n",
       "      <td>70</td>\n",
       "    </tr>\n",
       "    <tr>\n",
       "      <th>4</th>\n",
       "      <td>17.0</td>\n",
       "      <td>8</td>\n",
       "      <td>302.0</td>\n",
       "      <td>140.0</td>\n",
       "      <td>3449</td>\n",
       "      <td>10.5</td>\n",
       "      <td>70</td>\n",
       "    </tr>\n",
       "  </tbody>\n",
       "</table>\n",
       "</div>"
      ],
      "text/plain": [
       "    mpg  cylinders  displacement  horsepower  weight  acceleration  model year\n",
       "0  18.0          8         307.0       130.0    3504          12.0          70\n",
       "1  15.0          8         350.0       165.0    3693          11.5          70\n",
       "2  18.0          8         318.0       150.0    3436          11.0          70\n",
       "3  16.0          8         304.0       150.0    3433          12.0          70\n",
       "4  17.0          8         302.0       140.0    3449          10.5          70"
      ]
     },
     "execution_count": 26,
     "metadata": {},
     "output_type": "execute_result"
    }
   ],
   "source": [
    "X.head()"
   ]
  },
  {
   "cell_type": "code",
   "execution_count": 27,
   "metadata": {},
   "outputs": [
    {
     "name": "stdout",
     "output_type": "stream",
     "text": [
      "(398, 7) (398,)\n"
     ]
    }
   ],
   "source": [
    "print(X.shape,y.shape)"
   ]
  },
  {
   "cell_type": "markdown",
   "metadata": {},
   "source": [
    "<div style=\"background-color:##EDF9FF\">\n",
    "  <ul><li><h3> Scaling The Data</h3></li></ul>\n",
    "</div>"
   ]
  },
  {
   "cell_type": "code",
   "execution_count": 30,
   "metadata": {
    "scrolled": false
   },
   "outputs": [
    {
     "data": {
      "image/png": "[encoded data removed]",
      "text/plain": [
       "<Figure size 720x360 with 1 Axes>"
      ]
     },
     "metadata": {
      "needs_background": "light"
     },
     "output_type": "display_data"
    }
   ],
   "source": [
    "plt.figure(figsize=(10,5))\n",
    "plt.boxplot(X,labels=feat)\n",
    "plt.show()"
   ]
  },
  {
   "cell_type": "markdown",
   "metadata": {},
   "source": [
    "<div style=\"background-color:##FBFFE3\">\n",
    "    <div style=\"float:left\">\n",
    "        <img src='https://drive.google.com/uc?export=download&id=1gpc8kbwaenTpaIvnO_MQR3vw12rKYQrJ', width=20,height=20,>\n",
    "    </div>\n",
    "    <span style=\"padding:20px;\">The data is highly imbalanced. Using MinMaxScaler to scale the data.</span>\n",
    "</div>"
   ]
  },
  {
   "cell_type": "code",
   "execution_count": 31,
   "metadata": {},
   "outputs": [],
   "source": [
    "scl=MinMaxScaler()"
   ]
  },
  {
   "cell_type": "code",
   "execution_count": 32,
   "metadata": {},
   "outputs": [],
   "source": [
    "X=scl.fit_transform(X)"
   ]
  },
  {
   "cell_type": "code",
   "execution_count": 33,
   "metadata": {
    "scrolled": false
   },
   "outputs": [
    {
     "data": {
      "image/png": "[encoded data removed]",
      "text/plain": [
       "<Figure size 720x360 with 1 Axes>"
      ]
     },
     "metadata": {
      "needs_background": "light"
     },
     "output_type": "display_data"
    }
   ],
   "source": [
    "plt.figure(figsize=(10,5))\n",
    "plt.boxplot(X,labels=feat)\n",
    "plt.show()"
   ]
  },
  {
   "cell_type": "markdown",
   "metadata": {},
   "source": [
    "<div style=\"background-color:##EDF9FF\">\n",
    "  <ul><li><h3> Check Distribution Of Target Variable</h3></li></ul>\n",
    "</div>"
   ]
  },
  {
   "cell_type": "code",
   "execution_count": 35,
   "metadata": {
    "scrolled": false
   },
   "outputs": [
    {
     "name": "stdout",
     "output_type": "stream",
     "text": [
      "1    0.625628\n",
      "3    0.198492\n",
      "2    0.175879\n",
      "Name: origin, dtype: float64\n"
     ]
    }
   ],
   "source": [
    "Target_ratio=y.value_counts()/len(y)\n",
    "print(Target_ratio)"
   ]
  },
  {
   "cell_type": "code",
   "execution_count": 36,
   "metadata": {
    "scrolled": false
   },
   "outputs": [
    {
     "data": {
      "image/png": "[encoded data removed]",
      "text/plain": [
       "<Figure size 432x432 with 1 Axes>"
      ]
     },
     "metadata": {
      "needs_background": "light"
     },
     "output_type": "display_data"
    }
   ],
   "source": [
    "## Checking for data unbalance\n",
    "plt.figure(figsize = (6,6))\n",
    "plt.bar(Target_ratio.index,Target_ratio)\n",
    "plt.ylabel('Percentage')\n",
    "plt.xticks(Target_ratio.index)\n",
    "plt.show()"
   ]
  },
  {
   "cell_type": "markdown",
   "metadata": {},
   "source": [
    "<div style=\"background-color:##FBFFE3\">\n",
    "    <div style=\"float:left\">\n",
    "        <img src='https://drive.google.com/uc?export=download&id=1gpc8kbwaenTpaIvnO_MQR3vw12rKYQrJ', width=20,height=20,>\n",
    "    </div>\n",
    "    <span style=\"padding:20px;\">Dataset has around 62% of entries for origin 1</span>\n",
    "</div>"
   ]
  },
  {
   "cell_type": "markdown",
   "metadata": {},
   "source": [
    "<div style=\"background-color:##EDF9FF\">\n",
    "  <ul><li><h3> Train Test Split</h3></li></ul>\n",
    "</div>"
   ]
  },
  {
   "cell_type": "code",
   "execution_count": 37,
   "metadata": {},
   "outputs": [],
   "source": [
    "X_train, X_test, y_train, y_test=train_test_split(X,y,random_state=0, test_size=0.3)"
   ]
  },
  {
   "cell_type": "markdown",
   "metadata": {},
   "source": [
    "---"
   ]
  },
  {
   "cell_type": "markdown",
   "metadata": {},
   "source": [
    "## K - Nearest Neighbor"
   ]
  },
  {
   "cell_type": "markdown",
   "metadata": {},
   "source": [
    "Key hyperparameters to be considered before applying the KNN algorithm:\n",
    "\n",
    "- __n_neighbors__: Integer value to determine the number of neighbors to use by default it is __5__.\n",
    "\n",
    "\n",
    "For more information about other hyperparameters see <a href='https://scikit-learn.org/stable/modules/generated/sklearn.neighbors.KNeighborsClassifier.html'>KNN</a> section in the documentation here."
   ]
  },
  {
   "cell_type": "code",
   "execution_count": 54,
   "metadata": {},
   "outputs": [
    {
     "data": {
      "text/plain": [
       "KNeighborsClassifier(n_neighbors=6)"
      ]
     },
     "execution_count": 54,
     "metadata": {},
     "output_type": "execute_result"
    }
   ],
   "source": [
    "knn6=KNeighborsClassifier(n_neighbors=6)\n",
    "knn3=KNeighborsClassifier(n_neighbors=3)\n",
    "knn3.fit(X_train,y_train)\n",
    "knn6.fit(X_train,y_train)"
   ]
  },
  {
   "cell_type": "markdown",
   "metadata": {},
   "source": [
    "## Accuracy Score"
   ]
  },
  {
   "cell_type": "markdown",
   "metadata": {},
   "source": [
    "<div style=\"background-color:##EDF9FF\">\n",
    "  <ul><li><h3> KNN With 6 Neighbors</h3></li></ul>\n",
    "</div>"
   ]
  },
  {
   "cell_type": "code",
   "execution_count": 56,
   "metadata": {},
   "outputs": [
    {
     "name": "stdout",
     "output_type": "stream",
     "text": [
      "Accuracy Score:  0.75\n"
     ]
    }
   ],
   "source": [
    "pred=knn6.predict(X_test)\n",
    "acc_gnb=accuracy_score(y_test,pred)\n",
    "print('Accuracy Score: ',acc_gnb)"
   ]
  },
  {
   "cell_type": "code",
   "execution_count": 57,
   "metadata": {},
   "outputs": [
    {
     "data": {
      "text/plain": [
       "array([1, 2, 1, 1, 1, 2, 1, 1, 1, 1, 3, 3, 1, 2, 1, 3, 1, 1, 1, 1, 1, 1,\n",
       "       2, 3, 1, 1, 2, 3, 1, 1, 1, 3, 1, 3, 1, 2, 1, 1, 2, 1, 1, 1, 1, 3,\n",
       "       1, 2, 1, 1, 1, 2, 3, 2, 1, 3, 1, 1, 1, 1, 3, 1, 1, 1, 1, 1, 1, 1,\n",
       "       1, 1, 2, 1, 3, 1, 1, 1, 3, 2, 3, 3, 3, 1, 1, 2, 3, 2, 1, 3, 1, 1,\n",
       "       2, 3, 2, 1, 1, 3, 2, 1, 1, 2, 1, 1, 1, 3, 1, 1, 3, 1, 1, 1, 1, 2,\n",
       "       3, 2, 1, 3, 3, 1, 1, 1, 1, 3], dtype=int64)"
      ]
     },
     "execution_count": 57,
     "metadata": {},
     "output_type": "execute_result"
    }
   ],
   "source": [
    "pred"
   ]
  },
  {
   "cell_type": "markdown",
   "metadata": {},
   "source": [
    "<div style=\"background-color:##EDF9FF\">\n",
    "  <ul><li><h3> KNN With 3 Neighbors</h3></li></ul>\n",
    "</div>"
   ]
  },
  {
   "cell_type": "code",
   "execution_count": 45,
   "metadata": {},
   "outputs": [
    {
     "name": "stdout",
     "output_type": "stream",
     "text": [
      "Accuracy Score:  0.7\n"
     ]
    }
   ],
   "source": [
    "pred=knn3.predict(X_test)\n",
    "acc_gnb=accuracy_score(y_test,pred)\n",
    "print('Accuracy Score: ',acc_gnb)"
   ]
  },
  {
   "cell_type": "code",
   "execution_count": 48,
   "metadata": {},
   "outputs": [
    {
     "data": {
      "text/plain": [
       "array([[0.13297872, 1.        , 0.73126615, 0.58152174, 0.71335413,\n",
       "        0.29761905, 0.16666667],\n",
       "       [0.42553191, 0.2       , 0.18604651, 0.1576087 , 0.26339665,\n",
       "        0.53571429, 0.33333333],\n",
       "       [0.10638298, 1.        , 0.60465116, 0.51086957, 0.76013609,\n",
       "        0.47619048, 0.16666667],\n",
       "       [0.31914894, 0.2       , 0.13436693, 0.22282609, 0.38729799,\n",
       "        0.68452381, 0.16666667],\n",
       "       [0.2393617 , 0.6       , 0.42377261, 0.29347826, 0.47490785,\n",
       "        0.44642857, 0.08333333],\n",
       "       [0.69148936, 0.2       , 0.01033592, 0.125     , 0.        ,\n",
       "        0.5952381 , 0.08333333],\n",
       "       [0.66755319, 0.2       , 0.04651163, 0.10326087, 0.1026368 ,\n",
       "        0.42857143, 0.75      ],\n",
       "       [0.29255319, 0.2       , 0.18604651, 0.23913043, 0.22540403,\n",
       "        0.68452381, 0.16666667],\n",
       "       [0.15957447, 1.        , 0.85788114, 0.56521739, 0.60901616,\n",
       "        0.08928571, 0.        ],\n",
       "       [0.3856383 , 0.6       , 0.27131783, 0.34782609, 0.31528211,\n",
       "        0.27380952, 0.91666667],\n",
       "       [0.84840426, 0.2       , 0.04392765, 0.31776841, 0.06294301,\n",
       "        0.55357143, 0.83333333],\n",
       "       [0.75      , 0.2       , 0.04651163, 0.10326087, 0.11511199,\n",
       "        0.5       , 0.83333333],\n",
       "       [0.2393617 , 0.6       , 0.47028424, 0.22826087, 0.39920612,\n",
       "        0.50595238, 0.25      ],\n",
       "       [0.37234043, 0.2       , 0.0749354 , 0.04347826, 0.18174086,\n",
       "        0.92261905, 0.16666667],\n",
       "       [0.17287234, 1.        , 0.64599483, 0.53804348, 0.71647292,\n",
       "        0.33928571, 0.58333333],\n",
       "       [0.71010638, 0.2       , 0.07751938, 0.18478261, 0.08562518,\n",
       "        0.38095238, 0.75      ],\n",
       "       [0.58510638, 0.2       , 0.13178295, 0.19565217, 0.31386447,\n",
       "        0.67857143, 1.        ],\n",
       "       [0.4787234 , 0.2       , 0.21447028, 0.23913043, 0.31811738,\n",
       "        0.5952381 , 1.        ],\n",
       "       [0.2393617 , 0.6       , 0.40568475, 0.32065217, 0.56705415,\n",
       "        0.50595238, 0.33333333],\n",
       "       [0.75265957, 0.2       , 0.05943152, 0.125     , 0.1465835 ,\n",
       "        0.39880952, 0.75      ],\n",
       "       [0.17287234, 1.        , 0.85788114, 0.7826087 , 0.76892543,\n",
       "        0.25      , 0.58333333],\n",
       "       [0.37234043, 0.2       , 0.18604651, 0.17391304, 0.27757301,\n",
       "        0.625     , 0.41666667],\n",
       "       [0.39893617, 0.2       , 0.13178295, 0.27717391, 0.26424724,\n",
       "        0.53571429, 0.41666667],\n",
       "       [0.2393617 , 0.2       , 0.1369509 , 0.35869565, 0.37425574,\n",
       "        0.38690476, 0.16666667],\n",
       "       [0.67819149, 0.2       , 0.09560724, 0.13043478, 0.15225404,\n",
       "        0.41071429, 0.75      ],\n",
       "       [0.43617021, 0.6       , 0.25839793, 0.38043478, 0.36489935,\n",
       "        0.27380952, 0.91666667],\n",
       "       [0.72074468, 0.2       , 0.07751938, 0.10869565, 0.05301956,\n",
       "        0.38095238, 0.66666667],\n",
       "       [0.66489362, 0.2       , 0.11369509, 0.22826087, 0.22171817,\n",
       "        0.5952381 , 1.        ],\n",
       "       [0.55851064, 0.2       , 0.17312661, 0.20652174, 0.2188829 ,\n",
       "        0.29166667, 0.91666667],\n",
       "       [0.18617021, 0.6       , 0.49095607, 0.34782609, 0.57244117,\n",
       "        0.5952381 , 0.33333333],\n",
       "       [0.25531915, 0.6       , 0.40568475, 0.34782609, 0.56903884,\n",
       "        0.63690476, 0.66666667],\n",
       "       [0.74468085, 0.2       , 0.13178295, 0.25      , 0.23277573,\n",
       "        0.41666667, 0.83333333],\n",
       "       [0.15957447, 0.6       , 0.47028424, 0.14130435, 0.51573575,\n",
       "        0.77380952, 0.41666667],\n",
       "       [0.65159574, 0.2       , 0.04392765, 0.13043478, 0.09413099,\n",
       "        0.52380952, 0.58333333],\n",
       "       [0.35638298, 0.6       , 0.42118863, 0.34782609, 0.51091579,\n",
       "        0.46428571, 0.91666667],\n",
       "       [0.39893617, 0.2       , 0.17054264, 0.27173913, 0.30876099,\n",
       "        0.32738095, 0.41666667],\n",
       "       [0.26595745, 0.6       , 0.42377261, 0.23913043, 0.45307627,\n",
       "        0.53571429, 0.41666667],\n",
       "       [0.21010638, 1.        , 0.72868217, 0.5923913 , 0.77884888,\n",
       "        0.41071429, 0.75      ],\n",
       "       [0.60904255, 0.2       , 0.05426357, 0.13586957, 0.08846045,\n",
       "        0.35714286, 0.75      ],\n",
       "       [0.07978723, 1.        , 0.93281654, 0.82608696, 0.94669691,\n",
       "        0.20833333, 0.25      ],\n",
       "       [0.13297872, 1.        , 0.99741602, 0.94565217, 0.77714772,\n",
       "        0.05952381, 0.        ],\n",
       "       [0.15957447, 1.        , 0.72868217, 0.64673913, 0.58973632,\n",
       "        0.20833333, 0.        ],\n",
       "       [0.4893617 , 0.2       , 0.1369509 , 0.18478261, 0.29968812,\n",
       "        0.41666667, 0.75      ],\n",
       "       [0.39095745, 0.        , 0.00516796, 0.29347826, 0.22880635,\n",
       "        0.26785714, 0.83333333],\n",
       "       [0.61170213, 0.2       , 0.19638243, 0.27173913, 0.29827048,\n",
       "        0.35119048, 1.        ],\n",
       "       [0.39893617, 0.2       , 0.1369509 , 0.34782609, 0.29685285,\n",
       "        0.35714286, 0.25      ],\n",
       "       [0.35904255, 0.6       , 0.42377261, 0.23913043, 0.41735186,\n",
       "        0.57142857, 0.5       ],\n",
       "       [0.19946809, 1.        , 0.72868217, 0.72826087, 0.78451942,\n",
       "        0.24404762, 0.5       ],\n",
       "       [0.31914894, 0.6       , 0.2248062 , 0.33152174, 0.24354976,\n",
       "        0.35714286, 0.25      ],\n",
       "       [0.45212766, 0.2       , 0.02842377, 0.11413043, 0.09923448,\n",
       "        0.44642857, 0.33333333],\n",
       "       [0.8643617 , 0.2       , 0.07751938, 0.16304348, 0.15055288,\n",
       "        0.39880952, 0.83333333],\n",
       "       [0.53191489, 0.2       , 0.07751938, 0.20108696, 0.17181741,\n",
       "        0.50595238, 0.33333333],\n",
       "       [0.15957447, 1.        , 0.60465116, 0.45652174, 0.76041962,\n",
       "        0.41071429, 0.58333333],\n",
       "       [0.55851064, 0.2       , 0.05167959, 0.16304348, 0.12815424,\n",
       "        0.38690476, 0.08333333],\n",
       "       [0.15957447, 1.        , 0.81395349, 0.67391304, 0.5528778 ,\n",
       "        0.11904762, 0.        ],\n",
       "       [0.02659574, 1.        , 0.61757106, 0.83695652, 0.78338531,\n",
       "        0.41666667, 0.        ],\n",
       "       [0.2393617 , 0.6       , 0.49095607, 0.34782609, 0.38247803,\n",
       "        0.32738095, 0.08333333],\n",
       "       [0.29787234, 0.6       , 0.34108527, 0.22826087, 0.41026368,\n",
       "        0.54166667, 0.91666667],\n",
       "       [0.71808511, 0.2       , 0.17312661, 0.20652174, 0.21463   ,\n",
       "        0.29761905, 1.        ],\n",
       "       [0.21276596, 1.        , 0.60465116, 0.51086957, 0.52055571,\n",
       "        0.14880952, 0.        ],\n",
       "       [0.2393617 , 0.6       , 0.47028424, 0.17391304, 0.5559966 ,\n",
       "        0.77380952, 0.5       ],\n",
       "       [0.46542553, 0.2       , 0.18604651, 0.14130435, 0.26991778,\n",
       "        0.33333333, 0.5       ],\n",
       "       [0.2393617 , 0.6       , 0.42377261, 0.29347826, 0.33342784,\n",
       "        0.41666667, 0.25      ],\n",
       "       [0.34574468, 0.6       , 0.33591731, 0.26630435, 0.34590303,\n",
       "        0.44642857, 0.        ],\n",
       "       [0.07978723, 1.        , 0.72868217, 0.72826087, 0.81825914,\n",
       "        0.26785714, 0.25      ],\n",
       "       [0.13297872, 1.        , 0.73126615, 0.55434783, 0.86305642,\n",
       "        0.32738095, 0.41666667],\n",
       "       [0.15957447, 1.        , 0.93281654, 0.82608696, 0.77346187,\n",
       "        0.11904762, 0.        ],\n",
       "       [0.2393617 , 0.6       , 0.47028424, 0.32065217, 0.52339098,\n",
       "        0.47619048, 0.41666667],\n",
       "       [0.37234043, 0.2       , 0.18604651, 0.20108696, 0.29089878,\n",
       "        0.53571429, 0.41666667],\n",
       "       [0.13297872, 1.        , 0.96124031, 0.91847826, 0.76523958,\n",
       "        0.0297619 , 0.        ],\n",
       "       [0.61968085, 0.2       , 0.0749354 , 0.11413043, 0.12815424,\n",
       "        0.58333333, 0.91666667],\n",
       "       [0.10638298, 1.        , 0.72868217, 0.5923913 , 0.81910972,\n",
       "        0.32738095, 0.16666667],\n",
       "       [0.42553191, 0.2       , 0.10852713, 0.22282609, 0.30025517,\n",
       "        0.56547619, 0.        ],\n",
       "       [0.29255319, 0.6       , 0.40568475, 0.29347826, 0.57782818,\n",
       "        0.57738095, 0.5       ],\n",
       "       [0.39893617, 0.2       , 0.11627907, 0.26630435, 0.21519705,\n",
       "        0.41666667, 0.        ],\n",
       "       [0.58244681, 0.2       , 0.09560724, 0.1576087 , 0.17493621,\n",
       "        0.38690476, 0.66666667],\n",
       "       [0.45212766, 0.2       , 0.0749354 , 0.1576087 , 0.18485965,\n",
       "        0.60714286, 0.58333333],\n",
       "       [0.61170213, 0.2       , 0.03875969, 0.08152174, 0.11057556,\n",
       "        0.6547619 , 0.33333333],\n",
       "       [0.41223404, 0.2       , 0.07751938, 0.07608696, 0.15622342,\n",
       "        0.83928571, 0.5       ],\n",
       "       [0.05319149, 1.        , 0.72868217, 0.72826087, 0.58151403,\n",
       "        0.17857143, 0.25      ],\n",
       "       [0.15957447, 1.        , 0.64599483, 0.56521739, 0.71505529,\n",
       "        0.32738095, 0.16666667],\n",
       "       [0.4787234 , 0.2       , 0.0749354 , 0.07608696, 0.06265948,\n",
       "        0.6547619 , 0.08333333],\n",
       "       [0.67287234, 0.2       , 0.0749354 , 0.17391304, 0.16302807,\n",
       "        0.46428571, 0.83333333],\n",
       "       [0.45212766, 0.2       , 0.0749354 , 0.        , 0.09554862,\n",
       "        0.77380952, 0.25      ],\n",
       "       [0.60106383, 0.2       , 0.13436693, 0.15217391, 0.28976467,\n",
       "        0.61309524, 0.91666667],\n",
       "       [0.65957447, 0.2       , 0.0749354 , 0.11413043, 0.1508364 ,\n",
       "        0.5952381 , 0.83333333],\n",
       "       [0.53191489, 0.2       , 0.17312661, 0.20652174, 0.25857669,\n",
       "        0.47619048, 1.        ],\n",
       "       [0.24202128, 0.6       , 0.49095607, 0.40217391, 0.50949816,\n",
       "        0.42261905, 0.66666667],\n",
       "       [0.48404255, 0.2       , 0.18863049, 0.13586957, 0.4471222 ,\n",
       "        1.        , 0.75      ],\n",
       "       [0.7712766 , 0.2       , 0.09560724, 0.0923913 , 0.14516586,\n",
       "        0.39880952, 1.        ],\n",
       "       [0.45212766, 0.2       , 0.05943152, 0.13043478, 0.09696626,\n",
       "        0.74404762, 0.08333333],\n",
       "       [0.13297872, 1.        , 1.        , 0.97282609, 0.79727814,\n",
       "        0.11904762, 0.        ],\n",
       "       [0.34574468, 0.6       , 0.20155039, 0.27717391, 0.34079955,\n",
       "        0.38690476, 0.58333333],\n",
       "       [0.58510638, 0.2       , 0.02067183, 0.0326087 , 0.01020697,\n",
       "        0.50595238, 0.33333333],\n",
       "       [0.7287234 , 0.4       , 0.1369509 , 0.11413043, 0.3790757 ,\n",
       "        0.70833333, 0.83333333],\n",
       "       [0.2287234 , 1.        , 0.60465116, 0.45108696, 0.59880919,\n",
       "        0.32142857, 0.75      ],\n",
       "       [0.23138298, 0.6       , 0.42118863, 0.64673913, 0.5194216 ,\n",
       "        0.32142857, 0.66666667],\n",
       "       [0.50531915, 0.2       , 0.05684755, 0.1576087 , 0.14516586,\n",
       "        0.38690476, 0.33333333],\n",
       "       [0.31382979, 0.6       , 0.34108527, 0.21195652, 0.41309895,\n",
       "        0.51785714, 0.66666667],\n",
       "       [0.13297872, 1.        , 0.85788114, 0.70108696, 0.78593706,\n",
       "        0.23809524, 0.16666667],\n",
       "       [0.29787234, 0.6       , 0.34108527, 0.21195652, 0.38332861,\n",
       "        0.46428571, 0.66666667],\n",
       "       [0.63297872, 0.2       , 0.02583979, 0.0326087 , 0.10547207,\n",
       "        0.67857143, 0.66666667],\n",
       "       [0.3537234 , 0.2       , 0.18604651, 0.22826087, 0.36206408,\n",
       "        0.55357143, 0.75      ],\n",
       "       [0.50531915, 0.2       , 0.0749354 , 0.25      , 0.19138078,\n",
       "        0.53571429, 0.16666667],\n",
       "       [0.74468085, 0.2       , 0.04392765, 0.10326087, 0.1026368 ,\n",
       "        0.67857143, 0.91666667],\n",
       "       [0.4787234 , 0.2       , 0.21447028, 0.23913043, 0.3790757 ,\n",
       "        0.55357143, 1.        ],\n",
       "       [0.37765957, 0.2       , 0.22739018, 0.32065217, 0.32095265,\n",
       "        0.51785714, 0.66666667],\n",
       "       [0.10638298, 1.        , 0.75452196, 0.70108696, 0.62602779,\n",
       "        0.17857143, 0.25      ],\n",
       "       [0.15957447, 1.        , 0.64599483, 0.56521739, 0.61355259,\n",
       "        0.26785714, 0.25      ],\n",
       "       [0.34574468, 0.2       , 0.1369509 , 0.2826087 , 0.37765807,\n",
       "        0.38690476, 0.41666667],\n",
       "       [0.39893617, 0.2       , 0.10077519, 0.23913043, 0.23164162,\n",
       "        0.38690476, 0.        ],\n",
       "       [0.53191489, 0.2       , 0.05684755, 0.13043478, 0.09186277,\n",
       "        0.35714286, 0.41666667],\n",
       "       [0.10638298, 1.        , 0.60465116, 0.45652174, 0.63992061,\n",
       "        0.41666667, 0.5       ],\n",
       "       [0.60638298, 0.2       , 0.04392765, 0.10326087, 0.11539552,\n",
       "        0.66666667, 0.75      ],\n",
       "       [0.37234043, 0.2       , 0.13953488, 0.2173913 , 0.17210094,\n",
       "        0.35714286, 0.08333333],\n",
       "       [0.43882979, 0.2       , 0.18604651, 0.23369565, 0.32378792,\n",
       "        0.46428571, 0.58333333],\n",
       "       [0.55585106, 0.2       , 0.07751938, 0.10326087, 0.21746527,\n",
       "        0.75595238, 0.91666667],\n",
       "       [0.10638298, 1.        , 0.73126615, 0.60869565, 0.77969946,\n",
       "        0.29761905, 0.25      ],\n",
       "       [0.22606383, 1.        , 0.6124031 , 0.53804348, 0.64275588,\n",
       "        0.26785714, 0.58333333],\n",
       "       [1.        , 0.2       , 0.04651163, 0.10326087, 0.14091296,\n",
       "        0.58928571, 0.83333333]])"
      ]
     },
     "execution_count": 48,
     "metadata": {},
     "output_type": "execute_result"
    }
   ],
   "source": [
    "X_test"
   ]
  },
  {
   "cell_type": "code",
   "execution_count": 47,
   "metadata": {},
   "outputs": [
    {
     "data": {
      "text/plain": [
       "array([1, 1, 1, 1, 1, 2, 1, 1, 1, 1, 1, 1, 1, 1, 1, 1, 1, 1, 1, 1, 1, 2,\n",
       "       2, 2, 1, 1, 1, 3, 1, 1, 1, 2, 1, 1, 1, 2, 1, 1, 1, 1, 1, 1, 1, 3,\n",
       "       1, 3, 1, 1, 1, 2, 3, 3, 1, 1, 1, 1, 1, 1, 3, 1, 1, 2, 1, 1, 1, 1,\n",
       "       1, 1, 2, 1, 3, 1, 2, 1, 3, 2, 1, 3, 1, 1, 1, 2, 3, 3, 3, 3, 1, 1,\n",
       "       2, 3, 2, 1, 1, 3, 2, 1, 2, 2, 1, 1, 1, 1, 1, 1, 3, 1, 1, 1, 1, 2,\n",
       "       3, 2, 1, 3, 3, 1, 1, 1, 1, 3], dtype=int64)"
      ]
     },
     "execution_count": 47,
     "metadata": {},
     "output_type": "execute_result"
    }
   ],
   "source": [
    "pred"
   ]
  },
  {
   "cell_type": "markdown",
   "metadata": {},
   "source": [
    "<div style=\"background-color:##FBFFE3\">\n",
    "    <div style=\"float:left\">\n",
    "        <img src='https://drive.google.com/uc?export=download&id=1gpc8kbwaenTpaIvnO_MQR3vw12rKYQrJ', width=20,height=20,>\n",
    "    </div>\n",
    "    <span style=\"padding:20px;\">Slightly better accuracy with 3 neighbors</span>\n",
    "</div>"
   ]
  },
  {
   "cell_type": "markdown",
   "metadata": {},
   "source": [
    "## Multiclass ROC Curve"
   ]
  },
  {
   "cell_type": "code",
   "execution_count": 46,
   "metadata": {
    "scrolled": true
   },
   "outputs": [
    {
     "data": {
      "image/png": "[encoded data removed]",
      "text/plain": [
       "<Figure size 432x288 with 1 Axes>"
      ]
     },
     "metadata": {
      "needs_background": "light"
     },
     "output_type": "display_data"
    }
   ],
   "source": [
    "knn6_prob=knn6.predict_proba(X_test).T\n",
    "knn3_prob=knn3.predict_proba(X_test).T\n",
    "\n",
    "dummy_y_test=pd.get_dummies(y_test)\n",
    "\n",
    "knn6_roc_auc=dict()\n",
    "knn3_roc_auc=dict()\n",
    "lfpr6=dict()\n",
    "ltpr6=dict()\n",
    "lfpr3=dict()\n",
    "ltpr3=dict()\n",
    "lthresholds6=dict()\n",
    "lthresholds3=dict()\n",
    "for i in dummy_y_test.columns:\n",
    "    knn6_roc_auc[i]=roc_auc_score(dummy_y_test[i],knn6_prob[i-1])\n",
    "    knn3_roc_auc[i]=roc_auc_score(dummy_y_test[i],knn3_prob[i-1])\n",
    "    lfpr6[i], ltpr6[i], lthresholds6[i] = roc_curve(dummy_y_test[i], knn6_prob[i-1])\n",
    "    lfpr3[i], ltpr3[i], lthresholds3[i] = roc_curve(dummy_y_test[i], knn3_prob[i-1])\n",
    "\n",
    "\n",
    "for i in dummy_y_test.columns:\n",
    "    plt.plot(lfpr6[i], ltpr6[i], label='KNN 6 Class '+str(i)+ ' (area = %0.2f)' % knn6_roc_auc[i])\n",
    "    plt.plot(lfpr3[i], ltpr3[i],'-.', label='KNN 3 Class '+str(i)+ ' (area = %0.2f)' % knn3_roc_auc[i])\n",
    "\n",
    "\n",
    "\n",
    "plt.plot([0, 1], [0, 1],'r--')\n",
    "plt.xlim([0.0, 1.0])\n",
    "plt.ylim([0.0, 1.0])\n",
    "plt.xlabel('False Positive Rate')\n",
    "plt.ylabel('True Positive Rate')\n",
    "plt.title('Receiver operating characteristic')\n",
    "plt.legend(loc=\"lower right\")\n",
    "plt.show()"
   ]
  },
  {
   "cell_type": "markdown",
   "metadata": {},
   "source": [
    "<div style=\"background-color:##FBFFE3\">\n",
    "    <div style=\"float:left\">\n",
    "        <img src='https://drive.google.com/uc?export=download&id=1gpc8kbwaenTpaIvnO_MQR3vw12rKYQrJ', width=20,height=20,>\n",
    "    </div>\n",
    "    <span style=\"padding:20px;\">KNN 6 Class 1 has highest AUC value</span>\n",
    "</div>"
   ]
  },
  {
   "cell_type": "markdown",
   "metadata": {},
   "source": [
    "<b><i>Conclusion</i></b>: In this demonstration, we have gained an understanding of how to apply KNN algorithm."
   ]
  }
 ],
 "metadata": {
  "kernelspec": {
   "display_name": "Python 3 (ipykernel)",
   "language": "python",
   "name": "python3"
  },
  "language_info": {
   "codemirror_mode": {
    "name": "ipython",
    "version": 3
   },
   "file_extension": ".py",
   "mimetype": "text/x-python",
   "name": "python",
   "nbconvert_exporter": "python",
   "pygments_lexer": "ipython3",
   "version": "3.9.12"
  }
 },
 "nbformat": 4,
 "nbformat_minor": 2
}
